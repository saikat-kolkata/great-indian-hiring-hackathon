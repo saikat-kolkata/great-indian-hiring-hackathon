{
 "cells": [
  {
   "cell_type": "markdown",
   "metadata": {},
   "source": [
    "<h1>Retail price prediction - www.machinehack.com </h1>\n",
    "Challenging the MachineHack community to come up with an algorithm to predict the price of retail items belonging to different categories. \n",
    "\n",
    "---"
   ]
  },
  {
   "cell_type": "markdown",
   "metadata": {},
   "source": [
    "<b>* Import Libraries *"
   ]
  },
  {
   "cell_type": "code",
   "execution_count": 1,
   "metadata": {},
   "outputs": [],
   "source": [
    "import pandas as pd\n",
    "import numpy as np\n",
    "import seaborn as sns\n",
    "import matplotlib.pyplot as plt"
   ]
  },
  {
   "cell_type": "markdown",
   "metadata": {},
   "source": [
    "<b>* Load dataframe *"
   ]
  },
  {
   "cell_type": "code",
   "execution_count": 2,
   "metadata": {},
   "outputs": [],
   "source": [
    "#Loading the dataset\n",
    "\n",
    "df = pd.read_csv('Train.csv') #train data\n",
    "df_test = pd.read_csv('Test.csv') #test data"
   ]
  },
  {
   "cell_type": "markdown",
   "metadata": {},
   "source": [
    "<h1>1. Exploratory Data Analysis"
   ]
  },
  {
   "cell_type": "code",
   "execution_count": 3,
   "metadata": {},
   "outputs": [
    {
     "data": {
      "text/html": [
       "<div>\n",
       "<style scoped>\n",
       "    .dataframe tbody tr th:only-of-type {\n",
       "        vertical-align: middle;\n",
       "    }\n",
       "\n",
       "    .dataframe tbody tr th {\n",
       "        vertical-align: top;\n",
       "    }\n",
       "\n",
       "    .dataframe thead th {\n",
       "        text-align: right;\n",
       "    }\n",
       "</style>\n",
       "<table border=\"1\" class=\"dataframe\">\n",
       "  <thead>\n",
       "    <tr style=\"text-align: right;\">\n",
       "      <th></th>\n",
       "      <th>InvoiceNo</th>\n",
       "      <th>StockCode</th>\n",
       "      <th>Description</th>\n",
       "      <th>Quantity</th>\n",
       "      <th>InvoiceDate</th>\n",
       "      <th>UnitPrice</th>\n",
       "      <th>CustomerID</th>\n",
       "      <th>Country</th>\n",
       "    </tr>\n",
       "  </thead>\n",
       "  <tbody>\n",
       "    <tr>\n",
       "      <th>170141</th>\n",
       "      <td>13299</td>\n",
       "      <td>280</td>\n",
       "      <td>2454</td>\n",
       "      <td>12</td>\n",
       "      <td>2011-10-04 11:56:00</td>\n",
       "      <td>1.25</td>\n",
       "      <td>16186.0</td>\n",
       "      <td>35</td>\n",
       "    </tr>\n",
       "    <tr>\n",
       "      <th>110668</th>\n",
       "      <td>7558</td>\n",
       "      <td>3201</td>\n",
       "      <td>2861</td>\n",
       "      <td>2</td>\n",
       "      <td>2011-06-05 12:51:00</td>\n",
       "      <td>1.25</td>\n",
       "      <td>16883.0</td>\n",
       "      <td>35</td>\n",
       "    </tr>\n",
       "    <tr>\n",
       "      <th>93699</th>\n",
       "      <td>1754</td>\n",
       "      <td>988</td>\n",
       "      <td>2327</td>\n",
       "      <td>6</td>\n",
       "      <td>2011-01-13 09:29:00</td>\n",
       "      <td>2.95</td>\n",
       "      <td>13089.0</td>\n",
       "      <td>35</td>\n",
       "    </tr>\n",
       "    <tr>\n",
       "      <th>281385</th>\n",
       "      <td>4376</td>\n",
       "      <td>1392</td>\n",
       "      <td>1974</td>\n",
       "      <td>24</td>\n",
       "      <td>2011-03-24 14:56:00</td>\n",
       "      <td>0.42</td>\n",
       "      <td>16063.0</td>\n",
       "      <td>35</td>\n",
       "    </tr>\n",
       "    <tr>\n",
       "      <th>198216</th>\n",
       "      <td>14877</td>\n",
       "      <td>2189</td>\n",
       "      <td>2964</td>\n",
       "      <td>16</td>\n",
       "      <td>2011-10-28 08:34:00</td>\n",
       "      <td>1.25</td>\n",
       "      <td>13632.0</td>\n",
       "      <td>35</td>\n",
       "    </tr>\n",
       "  </tbody>\n",
       "</table>\n",
       "</div>"
      ],
      "text/plain": [
       "        InvoiceNo  StockCode  Description  Quantity          InvoiceDate  \\\n",
       "170141      13299        280         2454        12  2011-10-04 11:56:00   \n",
       "110668       7558       3201         2861         2  2011-06-05 12:51:00   \n",
       "93699        1754        988         2327         6  2011-01-13 09:29:00   \n",
       "281385       4376       1392         1974        24  2011-03-24 14:56:00   \n",
       "198216      14877       2189         2964        16  2011-10-28 08:34:00   \n",
       "\n",
       "        UnitPrice  CustomerID  Country  \n",
       "170141       1.25     16186.0       35  \n",
       "110668       1.25     16883.0       35  \n",
       "93699        2.95     13089.0       35  \n",
       "281385       0.42     16063.0       35  \n",
       "198216       1.25     13632.0       35  "
      ]
     },
     "execution_count": 3,
     "metadata": {},
     "output_type": "execute_result"
    }
   ],
   "source": [
    "#checking 5 sample values from train set\n",
    "\n",
    "df.sample(5)"
   ]
  },
  {
   "cell_type": "code",
   "execution_count": 4,
   "metadata": {},
   "outputs": [
    {
     "data": {
      "text/html": [
       "<div>\n",
       "<style scoped>\n",
       "    .dataframe tbody tr th:only-of-type {\n",
       "        vertical-align: middle;\n",
       "    }\n",
       "\n",
       "    .dataframe tbody tr th {\n",
       "        vertical-align: top;\n",
       "    }\n",
       "\n",
       "    .dataframe thead th {\n",
       "        text-align: right;\n",
       "    }\n",
       "</style>\n",
       "<table border=\"1\" class=\"dataframe\">\n",
       "  <thead>\n",
       "    <tr style=\"text-align: right;\">\n",
       "      <th></th>\n",
       "      <th>InvoiceNo</th>\n",
       "      <th>StockCode</th>\n",
       "      <th>Description</th>\n",
       "      <th>Quantity</th>\n",
       "      <th>InvoiceDate</th>\n",
       "      <th>CustomerID</th>\n",
       "      <th>Country</th>\n",
       "    </tr>\n",
       "  </thead>\n",
       "  <tbody>\n",
       "    <tr>\n",
       "      <th>99525</th>\n",
       "      <td>1058</td>\n",
       "      <td>3124</td>\n",
       "      <td>526</td>\n",
       "      <td>2</td>\n",
       "      <td>2010-12-15 11:56:00</td>\n",
       "      <td>15950.0</td>\n",
       "      <td>35</td>\n",
       "    </tr>\n",
       "    <tr>\n",
       "      <th>48507</th>\n",
       "      <td>8434</td>\n",
       "      <td>2079</td>\n",
       "      <td>3025</td>\n",
       "      <td>4</td>\n",
       "      <td>2011-06-22 12:09:00</td>\n",
       "      <td>15194.0</td>\n",
       "      <td>35</td>\n",
       "    </tr>\n",
       "    <tr>\n",
       "      <th>101390</th>\n",
       "      <td>4646</td>\n",
       "      <td>1611</td>\n",
       "      <td>1857</td>\n",
       "      <td>3</td>\n",
       "      <td>2011-03-30 17:33:00</td>\n",
       "      <td>17400.0</td>\n",
       "      <td>35</td>\n",
       "    </tr>\n",
       "    <tr>\n",
       "      <th>53374</th>\n",
       "      <td>2336</td>\n",
       "      <td>1601</td>\n",
       "      <td>2616</td>\n",
       "      <td>12</td>\n",
       "      <td>2011-01-31 09:57:00</td>\n",
       "      <td>12731.0</td>\n",
       "      <td>13</td>\n",
       "    </tr>\n",
       "    <tr>\n",
       "      <th>13295</th>\n",
       "      <td>15816</td>\n",
       "      <td>682</td>\n",
       "      <td>1970</td>\n",
       "      <td>1</td>\n",
       "      <td>2011-11-09 14:11:00</td>\n",
       "      <td>17867.0</td>\n",
       "      <td>35</td>\n",
       "    </tr>\n",
       "  </tbody>\n",
       "</table>\n",
       "</div>"
      ],
      "text/plain": [
       "        InvoiceNo  StockCode  Description  Quantity          InvoiceDate  \\\n",
       "99525        1058       3124          526         2  2010-12-15 11:56:00   \n",
       "48507        8434       2079         3025         4  2011-06-22 12:09:00   \n",
       "101390       4646       1611         1857         3  2011-03-30 17:33:00   \n",
       "53374        2336       1601         2616        12  2011-01-31 09:57:00   \n",
       "13295       15816        682         1970         1  2011-11-09 14:11:00   \n",
       "\n",
       "        CustomerID  Country  \n",
       "99525      15950.0       35  \n",
       "48507      15194.0       35  \n",
       "101390     17400.0       35  \n",
       "53374      12731.0       13  \n",
       "13295      17867.0       35  "
      ]
     },
     "execution_count": 4,
     "metadata": {},
     "output_type": "execute_result"
    }
   ],
   "source": [
    "#checking 5 sample values from test set\n",
    "\n",
    "df_test.sample(5)"
   ]
  },
  {
   "cell_type": "code",
   "execution_count": 5,
   "metadata": {},
   "outputs": [
    {
     "name": "stdout",
     "output_type": "stream",
     "text": [
      "<class 'pandas.core.frame.DataFrame'>\n",
      "RangeIndex: 284780 entries, 0 to 284779\n",
      "Data columns (total 8 columns):\n",
      " #   Column       Non-Null Count   Dtype  \n",
      "---  ------       --------------   -----  \n",
      " 0   InvoiceNo    284780 non-null  int64  \n",
      " 1   StockCode    284780 non-null  int64  \n",
      " 2   Description  284780 non-null  int64  \n",
      " 3   Quantity     284780 non-null  int64  \n",
      " 4   InvoiceDate  284780 non-null  object \n",
      " 5   UnitPrice    284780 non-null  float64\n",
      " 6   CustomerID   284780 non-null  float64\n",
      " 7   Country      284780 non-null  int64  \n",
      "dtypes: float64(2), int64(5), object(1)\n",
      "memory usage: 17.4+ MB\n"
     ]
    }
   ],
   "source": [
    "df.info()"
   ]
  },
  {
   "cell_type": "markdown",
   "metadata": {},
   "source": [
    "---\n",
    "There is no null value in the dataset, row depth 284780, row width 8"
   ]
  },
  {
   "cell_type": "code",
   "execution_count": 6,
   "metadata": {},
   "outputs": [
    {
     "data": {
      "text/plain": [
       "20971"
      ]
     },
     "execution_count": 6,
     "metadata": {},
     "output_type": "execute_result"
    }
   ],
   "source": [
    "df['InvoiceNo'].nunique() #20971 unique value in InvoiceNo column "
   ]
  },
  {
   "cell_type": "code",
   "execution_count": 7,
   "metadata": {},
   "outputs": [
    {
     "data": {
      "text/plain": [
       "InvoiceNo\n",
       "17524    384\n",
       "16242    383\n",
       "18165    360\n",
       "15081    310\n",
       "17128    305\n",
       "12326    290\n",
       "12514    273\n",
       "15896    267\n",
       "14160    260\n",
       "14606    257\n",
       "12832    245\n",
       "13764    243\n",
       "4148     218\n",
       "13211    202\n",
       "10172    194\n",
       "2498     181\n",
       "13832    178\n",
       "7007     167\n",
       "13526    164\n",
       "10186    160\n",
       "Name: StockCode, dtype: int64"
      ]
     },
     "execution_count": 7,
     "metadata": {},
     "output_type": "execute_result"
    }
   ],
   "source": [
    "#Finding top 20 most frequent invoice no and their count \n",
    "\n",
    "df.groupby('InvoiceNo').agg('StockCode').count().sort_values(ascending=False).head(20)"
   ]
  },
  {
   "cell_type": "code",
   "execution_count": 8,
   "metadata": {},
   "outputs": [
    {
     "data": {
      "text/plain": [
       "3619"
      ]
     },
     "execution_count": 8,
     "metadata": {},
     "output_type": "execute_result"
    }
   ],
   "source": [
    "df['StockCode'].nunique() # there is 3619 no unique StockCode"
   ]
  },
  {
   "cell_type": "code",
   "execution_count": 9,
   "metadata": {},
   "outputs": [
    {
     "data": {
      "text/plain": [
       "3819"
      ]
     },
     "execution_count": 9,
     "metadata": {},
     "output_type": "execute_result"
    }
   ],
   "source": [
    "df['Description'].nunique() # there is 3819 no unique Description"
   ]
  },
  {
   "cell_type": "code",
   "execution_count": 10,
   "metadata": {},
   "outputs": [
    {
     "data": {
      "text/plain": [
       "<matplotlib.axes._subplots.AxesSubplot at 0x17b18cdd4c0>"
      ]
     },
     "execution_count": 10,
     "metadata": {},
     "output_type": "execute_result"
    },
    {
     "data": {
      "image/png": "[encoded data removed]",
      "text/plain": [
       "<Figure size 864x432 with 1 Axes>"
      ]
     },
     "metadata": {
      "needs_background": "light"
     },
     "output_type": "display_data"
    }
   ],
   "source": [
    "#plot the distribution of UnitPrice\n",
    "\n",
    "plt.figure(figsize=(12,6))\n",
    "sns.distplot(df['UnitPrice'])"
   ]
  },
  {
   "cell_type": "markdown",
   "metadata": {},
   "source": [
    "<b>Observation: unitprice is highly skewed\n",
    "\n",
    "---"
   ]
  },
  {
   "cell_type": "code",
   "execution_count": 11,
   "metadata": {},
   "outputs": [
    {
     "data": {
      "text/plain": [
       "count    284780.000000\n",
       "mean          3.451216\n",
       "std          78.399541\n",
       "min           0.000000\n",
       "25%           1.250000\n",
       "50%           1.950000\n",
       "75%           3.750000\n",
       "max       38970.000000\n",
       "Name: UnitPrice, dtype: float64"
      ]
     },
     "execution_count": 11,
     "metadata": {},
     "output_type": "execute_result"
    }
   ],
   "source": [
    "df['UnitPrice'].describe() #Price is positively skewed, so right tail is longer"
   ]
  },
  {
   "cell_type": "markdown",
   "metadata": {},
   "source": [
    "<b> May have to take log over price value for the skewness"
   ]
  },
  {
   "cell_type": "code",
   "execution_count": 12,
   "metadata": {},
   "outputs": [
    {
     "data": {
      "text/plain": [
       "<matplotlib.axes._subplots.AxesSubplot at 0x17b1a234be0>"
      ]
     },
     "execution_count": 12,
     "metadata": {},
     "output_type": "execute_result"
    },
    {
     "data": {
      "image/png": "[encoded data removed]",
      "text/plain": [
       "<Figure size 864x432 with 1 Axes>"
      ]
     },
     "metadata": {
      "needs_background": "light"
     },
     "output_type": "display_data"
    }
   ],
   "source": [
    "#plot the distribution of Quantity\n",
    "\n",
    "plt.figure(figsize=(12,6))\n",
    "sns.distplot(df['Quantity'])"
   ]
  },
  {
   "cell_type": "code",
   "execution_count": 13,
   "metadata": {},
   "outputs": [
    {
     "data": {
      "text/html": [
       "<div>\n",
       "<style scoped>\n",
       "    .dataframe tbody tr th:only-of-type {\n",
       "        vertical-align: middle;\n",
       "    }\n",
       "\n",
       "    .dataframe tbody tr th {\n",
       "        vertical-align: top;\n",
       "    }\n",
       "\n",
       "    .dataframe thead th {\n",
       "        text-align: right;\n",
       "    }\n",
       "</style>\n",
       "<table border=\"1\" class=\"dataframe\">\n",
       "  <thead>\n",
       "    <tr style=\"text-align: right;\">\n",
       "      <th></th>\n",
       "      <th>InvoiceNo</th>\n",
       "      <th>StockCode</th>\n",
       "      <th>Description</th>\n",
       "      <th>Quantity</th>\n",
       "      <th>InvoiceDate</th>\n",
       "      <th>UnitPrice</th>\n",
       "      <th>CustomerID</th>\n",
       "      <th>Country</th>\n",
       "    </tr>\n",
       "  </thead>\n",
       "  <tbody>\n",
       "    <tr>\n",
       "      <th>180978</th>\n",
       "      <td>22185</td>\n",
       "      <td>2403</td>\n",
       "      <td>2329</td>\n",
       "      <td>-80995</td>\n",
       "      <td>2011-12-09 09:27:00</td>\n",
       "      <td>2.08</td>\n",
       "      <td>16446.0</td>\n",
       "      <td>35</td>\n",
       "    </tr>\n",
       "    <tr>\n",
       "      <th>271013</th>\n",
       "      <td>18958</td>\n",
       "      <td>2001</td>\n",
       "      <td>2002</td>\n",
       "      <td>-74215</td>\n",
       "      <td>2011-01-18 10:17:00</td>\n",
       "      <td>1.04</td>\n",
       "      <td>12346.0</td>\n",
       "      <td>35</td>\n",
       "    </tr>\n",
       "    <tr>\n",
       "      <th>149832</th>\n",
       "      <td>19744</td>\n",
       "      <td>3249</td>\n",
       "      <td>3716</td>\n",
       "      <td>-1930</td>\n",
       "      <td>2011-04-18 13:08:00</td>\n",
       "      <td>2.55</td>\n",
       "      <td>15749.0</td>\n",
       "      <td>35</td>\n",
       "    </tr>\n",
       "    <tr>\n",
       "      <th>6362</th>\n",
       "      <td>19934</td>\n",
       "      <td>3681</td>\n",
       "      <td>2140</td>\n",
       "      <td>-1350</td>\n",
       "      <td>2011-05-12 15:19:00</td>\n",
       "      <td>0.16</td>\n",
       "      <td>18133.0</td>\n",
       "      <td>35</td>\n",
       "    </tr>\n",
       "    <tr>\n",
       "      <th>25879</th>\n",
       "      <td>19744</td>\n",
       "      <td>2600</td>\n",
       "      <td>3436</td>\n",
       "      <td>-1300</td>\n",
       "      <td>2011-04-18 13:08:00</td>\n",
       "      <td>2.55</td>\n",
       "      <td>15749.0</td>\n",
       "      <td>35</td>\n",
       "    </tr>\n",
       "    <tr>\n",
       "      <th>...</th>\n",
       "      <td>...</td>\n",
       "      <td>...</td>\n",
       "      <td>...</td>\n",
       "      <td>...</td>\n",
       "      <td>...</td>\n",
       "      <td>...</td>\n",
       "      <td>...</td>\n",
       "      <td>...</td>\n",
       "    </tr>\n",
       "    <tr>\n",
       "      <th>180135</th>\n",
       "      <td>21279</td>\n",
       "      <td>3683</td>\n",
       "      <td>2624</td>\n",
       "      <td>-1</td>\n",
       "      <td>2011-09-30 12:51:00</td>\n",
       "      <td>7.62</td>\n",
       "      <td>13426.0</td>\n",
       "      <td>35</td>\n",
       "    </tr>\n",
       "    <tr>\n",
       "      <th>180203</th>\n",
       "      <td>22084</td>\n",
       "      <td>815</td>\n",
       "      <td>1450</td>\n",
       "      <td>-1</td>\n",
       "      <td>2011-12-01 10:56:00</td>\n",
       "      <td>0.79</td>\n",
       "      <td>16376.0</td>\n",
       "      <td>35</td>\n",
       "    </tr>\n",
       "    <tr>\n",
       "      <th>180205</th>\n",
       "      <td>20930</td>\n",
       "      <td>3216</td>\n",
       "      <td>871</td>\n",
       "      <td>-1</td>\n",
       "      <td>2011-08-31 12:24:00</td>\n",
       "      <td>12.75</td>\n",
       "      <td>18225.0</td>\n",
       "      <td>35</td>\n",
       "    </tr>\n",
       "    <tr>\n",
       "      <th>71188</th>\n",
       "      <td>20423</td>\n",
       "      <td>2802</td>\n",
       "      <td>2776</td>\n",
       "      <td>-1</td>\n",
       "      <td>2011-06-29 15:14:00</td>\n",
       "      <td>3.95</td>\n",
       "      <td>13982.0</td>\n",
       "      <td>35</td>\n",
       "    </tr>\n",
       "    <tr>\n",
       "      <th>284762</th>\n",
       "      <td>21799</td>\n",
       "      <td>860</td>\n",
       "      <td>3477</td>\n",
       "      <td>-1</td>\n",
       "      <td>2011-11-11 13:30:00</td>\n",
       "      <td>1.25</td>\n",
       "      <td>13588.0</td>\n",
       "      <td>35</td>\n",
       "    </tr>\n",
       "  </tbody>\n",
       "</table>\n",
       "<p>6167 rows × 8 columns</p>\n",
       "</div>"
      ],
      "text/plain": [
       "        InvoiceNo  StockCode  Description  Quantity          InvoiceDate  \\\n",
       "180978      22185       2403         2329    -80995  2011-12-09 09:27:00   \n",
       "271013      18958       2001         2002    -74215  2011-01-18 10:17:00   \n",
       "149832      19744       3249         3716     -1930  2011-04-18 13:08:00   \n",
       "6362        19934       3681         2140     -1350  2011-05-12 15:19:00   \n",
       "25879       19744       2600         3436     -1300  2011-04-18 13:08:00   \n",
       "...           ...        ...          ...       ...                  ...   \n",
       "180135      21279       3683         2624        -1  2011-09-30 12:51:00   \n",
       "180203      22084        815         1450        -1  2011-12-01 10:56:00   \n",
       "180205      20930       3216          871        -1  2011-08-31 12:24:00   \n",
       "71188       20423       2802         2776        -1  2011-06-29 15:14:00   \n",
       "284762      21799        860         3477        -1  2011-11-11 13:30:00   \n",
       "\n",
       "        UnitPrice  CustomerID  Country  \n",
       "180978       2.08     16446.0       35  \n",
       "271013       1.04     12346.0       35  \n",
       "149832       2.55     15749.0       35  \n",
       "6362         0.16     18133.0       35  \n",
       "25879        2.55     15749.0       35  \n",
       "...           ...         ...      ...  \n",
       "180135       7.62     13426.0       35  \n",
       "180203       0.79     16376.0       35  \n",
       "180205      12.75     18225.0       35  \n",
       "71188        3.95     13982.0       35  \n",
       "284762       1.25     13588.0       35  \n",
       "\n",
       "[6167 rows x 8 columns]"
      ]
     },
     "execution_count": 13,
     "metadata": {},
     "output_type": "execute_result"
    }
   ],
   "source": [
    "#Checking negative values in quatity \n",
    "\n",
    "df[df['Quantity']<0].sort_values(by='Quantity')"
   ]
  },
  {
   "cell_type": "markdown",
   "metadata": {},
   "source": [
    "<b>Observation: The negative values may be treated "
   ]
  },
  {
   "cell_type": "code",
   "execution_count": 14,
   "metadata": {},
   "outputs": [
    {
     "data": {
      "text/plain": [
       "<matplotlib.axes._subplots.AxesSubplot at 0x17b1a15e0d0>"
      ]
     },
     "execution_count": 14,
     "metadata": {},
     "output_type": "execute_result"
    },
    {
     "data": {
      "image/png": "[encoded data removed]",
      "text/plain": [
       "<Figure size 864x432 with 1 Axes>"
      ]
     },
     "metadata": {
      "needs_background": "light"
     },
     "output_type": "display_data"
    }
   ],
   "source": [
    "#Distribution of quantity in test set\n",
    "\n",
    "\n",
    "plt.figure(figsize=(12,6))\n",
    "sns.distplot(df_test['Quantity'])"
   ]
  },
  {
   "cell_type": "code",
   "execution_count": 15,
   "metadata": {},
   "outputs": [
    {
     "data": {
      "text/plain": [
       "37"
      ]
     },
     "execution_count": 15,
     "metadata": {},
     "output_type": "execute_result"
    }
   ],
   "source": [
    "#how many unique countries are present in the dataset\n",
    "\n",
    "df['Country'].nunique() "
   ]
  },
  {
   "cell_type": "code",
   "execution_count": 16,
   "metadata": {},
   "outputs": [
    {
     "data": {
      "text/plain": [
       "<matplotlib.axes._subplots.AxesSubplot at 0x17b1a283d90>"
      ]
     },
     "execution_count": 16,
     "metadata": {},
     "output_type": "execute_result"
    },
    {
     "data": {
      "image/png": "[encoded data removed]",
      "text/plain": [
       "<Figure size 864x576 with 1 Axes>"
      ]
     },
     "metadata": {
      "needs_background": "light"
     },
     "output_type": "display_data"
    }
   ],
   "source": [
    "#visualizing count of observations for each country\n",
    "\n",
    "plt.figure(figsize=(12,8))\n",
    "df.groupby('Country').agg('Description').count().sort_values(ascending=False).plot(kind='bar')"
   ]
  },
  {
   "cell_type": "code",
   "execution_count": 17,
   "metadata": {},
   "outputs": [
    {
     "data": {
      "text/html": [
       "<div>\n",
       "<style scoped>\n",
       "    .dataframe tbody tr th:only-of-type {\n",
       "        vertical-align: middle;\n",
       "    }\n",
       "\n",
       "    .dataframe tbody tr th {\n",
       "        vertical-align: top;\n",
       "    }\n",
       "\n",
       "    .dataframe thead th {\n",
       "        text-align: right;\n",
       "    }\n",
       "</style>\n",
       "<table border=\"1\" class=\"dataframe\">\n",
       "  <thead>\n",
       "    <tr style=\"text-align: right;\">\n",
       "      <th></th>\n",
       "      <th>InvoiceNo</th>\n",
       "      <th>StockCode</th>\n",
       "      <th>Description</th>\n",
       "      <th>Quantity</th>\n",
       "      <th>InvoiceDate</th>\n",
       "      <th>UnitPrice</th>\n",
       "      <th>CustomerID</th>\n",
       "      <th>Country</th>\n",
       "    </tr>\n",
       "  </thead>\n",
       "  <tbody>\n",
       "    <tr>\n",
       "      <th>140723</th>\n",
       "      <td>20237</td>\n",
       "      <td>3681</td>\n",
       "      <td>2140</td>\n",
       "      <td>-1</td>\n",
       "      <td>2011-06-10 15:31:00</td>\n",
       "      <td>38970.00</td>\n",
       "      <td>15098.0</td>\n",
       "      <td>35</td>\n",
       "    </tr>\n",
       "    <tr>\n",
       "      <th>239556</th>\n",
       "      <td>19848</td>\n",
       "      <td>3683</td>\n",
       "      <td>2624</td>\n",
       "      <td>-1</td>\n",
       "      <td>2011-05-03 12:51:00</td>\n",
       "      <td>8142.75</td>\n",
       "      <td>16029.0</td>\n",
       "      <td>35</td>\n",
       "    </tr>\n",
       "    <tr>\n",
       "      <th>51127</th>\n",
       "      <td>14824</td>\n",
       "      <td>3681</td>\n",
       "      <td>2140</td>\n",
       "      <td>1</td>\n",
       "      <td>2011-10-27 14:13:00</td>\n",
       "      <td>4161.06</td>\n",
       "      <td>12536.0</td>\n",
       "      <td>13</td>\n",
       "    </tr>\n",
       "    <tr>\n",
       "      <th>113566</th>\n",
       "      <td>21589</td>\n",
       "      <td>3681</td>\n",
       "      <td>2140</td>\n",
       "      <td>-2</td>\n",
       "      <td>2011-10-27 14:15:00</td>\n",
       "      <td>4161.06</td>\n",
       "      <td>12536.0</td>\n",
       "      <td>13</td>\n",
       "    </tr>\n",
       "    <tr>\n",
       "      <th>266800</th>\n",
       "      <td>14826</td>\n",
       "      <td>3681</td>\n",
       "      <td>2140</td>\n",
       "      <td>1</td>\n",
       "      <td>2011-10-27 14:20:00</td>\n",
       "      <td>4161.06</td>\n",
       "      <td>12536.0</td>\n",
       "      <td>13</td>\n",
       "    </tr>\n",
       "    <tr>\n",
       "      <th>...</th>\n",
       "      <td>...</td>\n",
       "      <td>...</td>\n",
       "      <td>...</td>\n",
       "      <td>...</td>\n",
       "      <td>...</td>\n",
       "      <td>...</td>\n",
       "      <td>...</td>\n",
       "      <td>...</td>\n",
       "    </tr>\n",
       "    <tr>\n",
       "      <th>241838</th>\n",
       "      <td>5886</td>\n",
       "      <td>1673</td>\n",
       "      <td>692</td>\n",
       "      <td>2</td>\n",
       "      <td>2011-05-03 10:42:00</td>\n",
       "      <td>110.00</td>\n",
       "      <td>16133.0</td>\n",
       "      <td>35</td>\n",
       "    </tr>\n",
       "    <tr>\n",
       "      <th>92453</th>\n",
       "      <td>12073</td>\n",
       "      <td>1673</td>\n",
       "      <td>692</td>\n",
       "      <td>2</td>\n",
       "      <td>2011-09-13 11:47:00</td>\n",
       "      <td>110.00</td>\n",
       "      <td>14646.0</td>\n",
       "      <td>23</td>\n",
       "    </tr>\n",
       "    <tr>\n",
       "      <th>128494</th>\n",
       "      <td>2017</td>\n",
       "      <td>1673</td>\n",
       "      <td>692</td>\n",
       "      <td>3</td>\n",
       "      <td>2011-01-21 13:07:00</td>\n",
       "      <td>110.00</td>\n",
       "      <td>14088.0</td>\n",
       "      <td>35</td>\n",
       "    </tr>\n",
       "    <tr>\n",
       "      <th>151555</th>\n",
       "      <td>20594</td>\n",
       "      <td>3681</td>\n",
       "      <td>2140</td>\n",
       "      <td>-1</td>\n",
       "      <td>2011-07-19 14:56:00</td>\n",
       "      <td>106.40</td>\n",
       "      <td>14437.0</td>\n",
       "      <td>35</td>\n",
       "    </tr>\n",
       "    <tr>\n",
       "      <th>6028</th>\n",
       "      <td>21062</td>\n",
       "      <td>3679</td>\n",
       "      <td>1066</td>\n",
       "      <td>-1</td>\n",
       "      <td>2011-09-13 17:28:00</td>\n",
       "      <td>102.24</td>\n",
       "      <td>16029.0</td>\n",
       "      <td>35</td>\n",
       "    </tr>\n",
       "  </tbody>\n",
       "</table>\n",
       "<p>206 rows × 8 columns</p>\n",
       "</div>"
      ],
      "text/plain": [
       "        InvoiceNo  StockCode  Description  Quantity          InvoiceDate  \\\n",
       "140723      20237       3681         2140        -1  2011-06-10 15:31:00   \n",
       "239556      19848       3683         2624        -1  2011-05-03 12:51:00   \n",
       "51127       14824       3681         2140         1  2011-10-27 14:13:00   \n",
       "113566      21589       3681         2140        -2  2011-10-27 14:15:00   \n",
       "266800      14826       3681         2140         1  2011-10-27 14:20:00   \n",
       "...           ...        ...          ...       ...                  ...   \n",
       "241838       5886       1673          692         2  2011-05-03 10:42:00   \n",
       "92453       12073       1673          692         2  2011-09-13 11:47:00   \n",
       "128494       2017       1673          692         3  2011-01-21 13:07:00   \n",
       "151555      20594       3681         2140        -1  2011-07-19 14:56:00   \n",
       "6028        21062       3679         1066        -1  2011-09-13 17:28:00   \n",
       "\n",
       "        UnitPrice  CustomerID  Country  \n",
       "140723   38970.00     15098.0       35  \n",
       "239556    8142.75     16029.0       35  \n",
       "51127     4161.06     12536.0       13  \n",
       "113566    4161.06     12536.0       13  \n",
       "266800    4161.06     12536.0       13  \n",
       "...           ...         ...      ...  \n",
       "241838     110.00     16133.0       35  \n",
       "92453      110.00     14646.0       23  \n",
       "128494     110.00     14088.0       35  \n",
       "151555     106.40     14437.0       35  \n",
       "6028       102.24     16029.0       35  \n",
       "\n",
       "[206 rows x 8 columns]"
      ]
     },
     "execution_count": 17,
     "metadata": {},
     "output_type": "execute_result"
    }
   ],
   "source": [
    "#see dataframe for prices more than 100\n",
    "\n",
    "df[df['UnitPrice']>100].sort_values(by='UnitPrice',ascending=False)"
   ]
  },
  {
   "cell_type": "code",
   "execution_count": 18,
   "metadata": {},
   "outputs": [
    {
     "data": {
      "text/html": [
       "<div>\n",
       "<style scoped>\n",
       "    .dataframe tbody tr th:only-of-type {\n",
       "        vertical-align: middle;\n",
       "    }\n",
       "\n",
       "    .dataframe tbody tr th {\n",
       "        vertical-align: top;\n",
       "    }\n",
       "\n",
       "    .dataframe thead th {\n",
       "        text-align: right;\n",
       "    }\n",
       "</style>\n",
       "<table border=\"1\" class=\"dataframe\">\n",
       "  <thead>\n",
       "    <tr style=\"text-align: right;\">\n",
       "      <th></th>\n",
       "      <th>InvoiceNo</th>\n",
       "      <th>StockCode</th>\n",
       "      <th>Description</th>\n",
       "      <th>Quantity</th>\n",
       "      <th>InvoiceDate</th>\n",
       "      <th>UnitPrice</th>\n",
       "      <th>CustomerID</th>\n",
       "      <th>Country</th>\n",
       "    </tr>\n",
       "  </thead>\n",
       "  <tbody>\n",
       "    <tr>\n",
       "      <th>3227</th>\n",
       "      <td>13336</td>\n",
       "      <td>3681</td>\n",
       "      <td>2140</td>\n",
       "      <td>1</td>\n",
       "      <td>2011-10-04 15:21:00</td>\n",
       "      <td>7.95</td>\n",
       "      <td>16374.0</td>\n",
       "      <td>35</td>\n",
       "    </tr>\n",
       "    <tr>\n",
       "      <th>3271</th>\n",
       "      <td>14937</td>\n",
       "      <td>3681</td>\n",
       "      <td>2140</td>\n",
       "      <td>8</td>\n",
       "      <td>2011-10-28 16:45:00</td>\n",
       "      <td>0.39</td>\n",
       "      <td>14071.0</td>\n",
       "      <td>35</td>\n",
       "    </tr>\n",
       "    <tr>\n",
       "      <th>3318</th>\n",
       "      <td>5469</td>\n",
       "      <td>3681</td>\n",
       "      <td>2140</td>\n",
       "      <td>18</td>\n",
       "      <td>2011-04-18 13:46:00</td>\n",
       "      <td>0.10</td>\n",
       "      <td>16399.0</td>\n",
       "      <td>35</td>\n",
       "    </tr>\n",
       "    <tr>\n",
       "      <th>4227</th>\n",
       "      <td>2029</td>\n",
       "      <td>3681</td>\n",
       "      <td>2140</td>\n",
       "      <td>1</td>\n",
       "      <td>2011-01-21 14:51:00</td>\n",
       "      <td>10.00</td>\n",
       "      <td>16210.0</td>\n",
       "      <td>35</td>\n",
       "    </tr>\n",
       "    <tr>\n",
       "      <th>6362</th>\n",
       "      <td>19934</td>\n",
       "      <td>3681</td>\n",
       "      <td>2140</td>\n",
       "      <td>-1350</td>\n",
       "      <td>2011-05-12 15:19:00</td>\n",
       "      <td>0.16</td>\n",
       "      <td>18133.0</td>\n",
       "      <td>35</td>\n",
       "    </tr>\n",
       "    <tr>\n",
       "      <th>...</th>\n",
       "      <td>...</td>\n",
       "      <td>...</td>\n",
       "      <td>...</td>\n",
       "      <td>...</td>\n",
       "      <td>...</td>\n",
       "      <td>...</td>\n",
       "      <td>...</td>\n",
       "      <td>...</td>\n",
       "    </tr>\n",
       "    <tr>\n",
       "      <th>278843</th>\n",
       "      <td>22187</td>\n",
       "      <td>3681</td>\n",
       "      <td>2140</td>\n",
       "      <td>-1</td>\n",
       "      <td>2011-12-09 10:28:00</td>\n",
       "      <td>224.69</td>\n",
       "      <td>15498.0</td>\n",
       "      <td>35</td>\n",
       "    </tr>\n",
       "    <tr>\n",
       "      <th>281075</th>\n",
       "      <td>21563</td>\n",
       "      <td>3681</td>\n",
       "      <td>2140</td>\n",
       "      <td>-1</td>\n",
       "      <td>2011-10-25 12:30:00</td>\n",
       "      <td>80.00</td>\n",
       "      <td>14527.0</td>\n",
       "      <td>35</td>\n",
       "    </tr>\n",
       "    <tr>\n",
       "      <th>281438</th>\n",
       "      <td>7856</td>\n",
       "      <td>3681</td>\n",
       "      <td>2140</td>\n",
       "      <td>12</td>\n",
       "      <td>2011-06-09 14:23:00</td>\n",
       "      <td>0.38</td>\n",
       "      <td>17522.0</td>\n",
       "      <td>35</td>\n",
       "    </tr>\n",
       "    <tr>\n",
       "      <th>283244</th>\n",
       "      <td>14012</td>\n",
       "      <td>3681</td>\n",
       "      <td>2140</td>\n",
       "      <td>1</td>\n",
       "      <td>2011-10-14 10:42:00</td>\n",
       "      <td>40.00</td>\n",
       "      <td>15482.0</td>\n",
       "      <td>35</td>\n",
       "    </tr>\n",
       "    <tr>\n",
       "      <th>284315</th>\n",
       "      <td>21487</td>\n",
       "      <td>3681</td>\n",
       "      <td>2140</td>\n",
       "      <td>-2</td>\n",
       "      <td>2011-10-18 15:33:00</td>\n",
       "      <td>0.42</td>\n",
       "      <td>14056.0</td>\n",
       "      <td>35</td>\n",
       "    </tr>\n",
       "  </tbody>\n",
       "</table>\n",
       "<p>320 rows × 8 columns</p>\n",
       "</div>"
      ],
      "text/plain": [
       "        InvoiceNo  StockCode  Description  Quantity          InvoiceDate  \\\n",
       "3227        13336       3681         2140         1  2011-10-04 15:21:00   \n",
       "3271        14937       3681         2140         8  2011-10-28 16:45:00   \n",
       "3318         5469       3681         2140        18  2011-04-18 13:46:00   \n",
       "4227         2029       3681         2140         1  2011-01-21 14:51:00   \n",
       "6362        19934       3681         2140     -1350  2011-05-12 15:19:00   \n",
       "...           ...        ...          ...       ...                  ...   \n",
       "278843      22187       3681         2140        -1  2011-12-09 10:28:00   \n",
       "281075      21563       3681         2140        -1  2011-10-25 12:30:00   \n",
       "281438       7856       3681         2140        12  2011-06-09 14:23:00   \n",
       "283244      14012       3681         2140         1  2011-10-14 10:42:00   \n",
       "284315      21487       3681         2140        -2  2011-10-18 15:33:00   \n",
       "\n",
       "        UnitPrice  CustomerID  Country  \n",
       "3227         7.95     16374.0       35  \n",
       "3271         0.39     14071.0       35  \n",
       "3318         0.10     16399.0       35  \n",
       "4227        10.00     16210.0       35  \n",
       "6362         0.16     18133.0       35  \n",
       "...           ...         ...      ...  \n",
       "278843     224.69     15498.0       35  \n",
       "281075      80.00     14527.0       35  \n",
       "281438       0.38     17522.0       35  \n",
       "283244      40.00     15482.0       35  \n",
       "284315       0.42     14056.0       35  \n",
       "\n",
       "[320 rows x 8 columns]"
      ]
     },
     "execution_count": 18,
     "metadata": {},
     "output_type": "execute_result"
    }
   ],
   "source": [
    "df[df['Description']==2140]"
   ]
  },
  {
   "cell_type": "code",
   "execution_count": 19,
   "metadata": {},
   "outputs": [
    {
     "data": {
      "text/plain": [
       "-0.0009240275617004388"
      ]
     },
     "execution_count": 19,
     "metadata": {},
     "output_type": "execute_result"
    }
   ],
   "source": [
    "df.corr()['UnitPrice']['Quantity']"
   ]
  },
  {
   "cell_type": "markdown",
   "metadata": {},
   "source": [
    "<h1>2. Feature Engineering"
   ]
  },
  {
   "cell_type": "markdown",
   "metadata": {},
   "source": [
    "---\n",
    "<b> Extract features from invoice date"
   ]
  },
  {
   "cell_type": "code",
   "execution_count": 20,
   "metadata": {},
   "outputs": [],
   "source": [
    "#Extracting field of month, year, weekday and no of week from invoice date\n",
    "\n",
    "df['InvoiceDate'] = pd.to_datetime(df['InvoiceDate'])\n",
    "df['month'] = df['InvoiceDate'].apply(lambda date:date.month)\n",
    "df['year'] = df['InvoiceDate'].apply(lambda date:date.year)\n",
    "df['weekday'] = df['InvoiceDate'].apply(lambda date:date.weekday())\n",
    "df['No_of_Week'] = df['InvoiceDate'].apply(lambda date:date.week)"
   ]
  },
  {
   "cell_type": "code",
   "execution_count": 21,
   "metadata": {},
   "outputs": [],
   "source": [
    "#Applied same in test set\n",
    "\n",
    "df_test['InvoiceDate'] = pd.to_datetime(df_test['InvoiceDate'])\n",
    "df_test['month'] = df_test['InvoiceDate'].apply(lambda date:date.month)\n",
    "df_test['year'] = df_test['InvoiceDate'].apply(lambda date:date.year)\n",
    "df_test['weekday'] = df_test['InvoiceDate'].apply(lambda date:date.weekday())\n",
    "df_test['No_of_Week'] = df_test['InvoiceDate'].apply(lambda date:date.week)"
   ]
  },
  {
   "cell_type": "markdown",
   "metadata": {},
   "source": [
    "---\n",
    "\n",
    "<b> Ranking months as per total unitprice </b><p>\n",
    "(First we'll sort the months based on total sales volume (Price), then we'll assign ranks to the months accordingly)"
   ]
  },
  {
   "cell_type": "code",
   "execution_count": 22,
   "metadata": {},
   "outputs": [
    {
     "data": {
      "text/plain": [
       "month\n",
       "11    138946.730\n",
       "10    132638.550\n",
       "6     102385.210\n",
       "12     96546.120\n",
       "9      83841.202\n",
       "5      79160.680\n",
       "3      66292.840\n",
       "7      64243.631\n",
       "4      61228.571\n",
       "8      59668.270\n",
       "1      51362.970\n",
       "2      46522.490\n",
       "Name: UnitPrice, dtype: float64"
      ]
     },
     "execution_count": 22,
     "metadata": {},
     "output_type": "execute_result"
    }
   ],
   "source": [
    "#sorting months based on total UnitPrice sold for each month\n",
    "\n",
    "df.groupby('month').agg('UnitPrice').sum().sort_values(ascending=False)"
   ]
  },
  {
   "cell_type": "code",
   "execution_count": 23,
   "metadata": {},
   "outputs": [],
   "source": [
    "#Create a dictionary based on months order and map with month filed to create a new field based on total sales \n",
    "\n",
    "dic_month = {11:12,10:11,6:10,12:9,9:8,5:7,3:6,7:5,4:4,8:3,1:2,2:1}  \n",
    "\n",
    "# Train set\n",
    "df['High_month'] = df['month'].map(dic_month)\n",
    "\n",
    "\n",
    "# Test set\n",
    "\n",
    "df_test['High_month'] = df_test['month'].map(dic_month)"
   ]
  },
  {
   "cell_type": "code",
   "execution_count": 24,
   "metadata": {},
   "outputs": [
    {
     "data": {
      "text/html": [
       "<div>\n",
       "<style scoped>\n",
       "    .dataframe tbody tr th:only-of-type {\n",
       "        vertical-align: middle;\n",
       "    }\n",
       "\n",
       "    .dataframe tbody tr th {\n",
       "        vertical-align: top;\n",
       "    }\n",
       "\n",
       "    .dataframe thead th {\n",
       "        text-align: right;\n",
       "    }\n",
       "</style>\n",
       "<table border=\"1\" class=\"dataframe\">\n",
       "  <thead>\n",
       "    <tr style=\"text-align: right;\">\n",
       "      <th></th>\n",
       "      <th>InvoiceNo</th>\n",
       "      <th>StockCode</th>\n",
       "      <th>Description</th>\n",
       "      <th>Quantity</th>\n",
       "      <th>InvoiceDate</th>\n",
       "      <th>UnitPrice</th>\n",
       "      <th>CustomerID</th>\n",
       "      <th>Country</th>\n",
       "      <th>month</th>\n",
       "      <th>year</th>\n",
       "      <th>weekday</th>\n",
       "      <th>No_of_Week</th>\n",
       "      <th>High_month</th>\n",
       "    </tr>\n",
       "  </thead>\n",
       "  <tbody>\n",
       "    <tr>\n",
       "      <th>0</th>\n",
       "      <td>6141</td>\n",
       "      <td>1583</td>\n",
       "      <td>144</td>\n",
       "      <td>3</td>\n",
       "      <td>2011-05-06 16:54:00</td>\n",
       "      <td>3.75</td>\n",
       "      <td>14056.0</td>\n",
       "      <td>35</td>\n",
       "      <td>5</td>\n",
       "      <td>2011</td>\n",
       "      <td>4</td>\n",
       "      <td>18</td>\n",
       "      <td>7</td>\n",
       "    </tr>\n",
       "    <tr>\n",
       "      <th>1</th>\n",
       "      <td>6349</td>\n",
       "      <td>1300</td>\n",
       "      <td>3682</td>\n",
       "      <td>6</td>\n",
       "      <td>2011-05-11 07:35:00</td>\n",
       "      <td>1.95</td>\n",
       "      <td>13098.0</td>\n",
       "      <td>35</td>\n",
       "      <td>5</td>\n",
       "      <td>2011</td>\n",
       "      <td>2</td>\n",
       "      <td>19</td>\n",
       "      <td>7</td>\n",
       "    </tr>\n",
       "  </tbody>\n",
       "</table>\n",
       "</div>"
      ],
      "text/plain": [
       "   InvoiceNo  StockCode  Description  Quantity         InvoiceDate  UnitPrice  \\\n",
       "0       6141       1583          144         3 2011-05-06 16:54:00       3.75   \n",
       "1       6349       1300         3682         6 2011-05-11 07:35:00       1.95   \n",
       "\n",
       "   CustomerID  Country  month  year  weekday  No_of_Week  High_month  \n",
       "0     14056.0       35      5  2011        4          18           7  \n",
       "1     13098.0       35      5  2011        2          19           7  "
      ]
     },
     "execution_count": 24,
     "metadata": {},
     "output_type": "execute_result"
    }
   ],
   "source": [
    "df.head(2)"
   ]
  },
  {
   "cell_type": "markdown",
   "metadata": {},
   "source": [
    "---\n",
    "\n",
    "<b> Create rank of description based on price</b> <p>\n",
    "First, we'll generate an Excel File based on average unit price of each description, then we'll assign ranks to them - higher average price will get high values in rank and lower average price will get lower ranks. After that, we'll create a dictionary with indexes are the <b>descriptions,</b> and <b>ranks</b> are the values and map it with our original dataframe"
   ]
  },
  {
   "cell_type": "markdown",
   "metadata": {},
   "source": [
    "<b><Font color=\"red\">Alert!!!!!!!! Running the below line will remove ranks from excel file! So, run with separate file name"
   ]
  },
  {
   "cell_type": "code",
   "execution_count": 25,
   "metadata": {},
   "outputs": [],
   "source": [
    "#creating file by sorting description based on mean UnitPrice\n",
    "\n",
    "# df.groupby(['Description']).agg('UnitPrice').mean().reset_index().sort_values(by='UnitPrice',ascending=False).to_csv('-Price_rank.csv')"
   ]
  },
  {
   "cell_type": "code",
   "execution_count": 26,
   "metadata": {},
   "outputs": [
    {
     "data": {
      "text/html": [
       "<div>\n",
       "<style scoped>\n",
       "    .dataframe tbody tr th:only-of-type {\n",
       "        vertical-align: middle;\n",
       "    }\n",
       "\n",
       "    .dataframe tbody tr th {\n",
       "        vertical-align: top;\n",
       "    }\n",
       "\n",
       "    .dataframe thead th {\n",
       "        text-align: right;\n",
       "    }\n",
       "</style>\n",
       "<table border=\"1\" class=\"dataframe\">\n",
       "  <thead>\n",
       "    <tr style=\"text-align: right;\">\n",
       "      <th></th>\n",
       "      <th>Description</th>\n",
       "      <th>UnitPrice</th>\n",
       "      <th>Rank</th>\n",
       "    </tr>\n",
       "  </thead>\n",
       "  <tbody>\n",
       "    <tr>\n",
       "      <th>0</th>\n",
       "      <td>1043</td>\n",
       "      <td>781.587857</td>\n",
       "      <td>30</td>\n",
       "    </tr>\n",
       "    <tr>\n",
       "      <th>1</th>\n",
       "      <td>2405</td>\n",
       "      <td>649.500000</td>\n",
       "      <td>29</td>\n",
       "    </tr>\n",
       "    <tr>\n",
       "      <th>2</th>\n",
       "      <td>882</td>\n",
       "      <td>496.340833</td>\n",
       "      <td>28</td>\n",
       "    </tr>\n",
       "    <tr>\n",
       "      <th>3</th>\n",
       "      <td>2140</td>\n",
       "      <td>334.676469</td>\n",
       "      <td>27</td>\n",
       "    </tr>\n",
       "    <tr>\n",
       "      <th>4</th>\n",
       "      <td>3571</td>\n",
       "      <td>156.111111</td>\n",
       "      <td>26</td>\n",
       "    </tr>\n",
       "  </tbody>\n",
       "</table>\n",
       "</div>"
      ],
      "text/plain": [
       "   Description   UnitPrice  Rank\n",
       "0         1043  781.587857    30\n",
       "1         2405  649.500000    29\n",
       "2          882  496.340833    28\n",
       "3         2140  334.676469    27\n",
       "4         3571  156.111111    26"
      ]
     },
     "execution_count": 26,
     "metadata": {},
     "output_type": "execute_result"
    }
   ],
   "source": [
    "#uploading ranking from .CSV file\n",
    "\n",
    "d_price = pd.read_csv('Price_rank.csv')\n",
    "d_price.head(5)"
   ]
  },
  {
   "cell_type": "code",
   "execution_count": 27,
   "metadata": {},
   "outputs": [],
   "source": [
    "#change the dataframe to dictionary for mapping \n",
    "\n",
    "dic_price=pd.Series(d_price.Rank.values,index=d_price.Description).to_dict()"
   ]
  },
  {
   "cell_type": "code",
   "execution_count": 28,
   "metadata": {},
   "outputs": [],
   "source": [
    "#map the rank with description and and create new field \n",
    "\n",
    "#train set\n",
    "\n",
    "df['Price_rank']=df['Description'].map(dic_price)\n",
    "\n",
    "#test set\n",
    "\n",
    "df_test['Price_rank']=df_test['Description'].map(dic_price)"
   ]
  },
  {
   "cell_type": "code",
   "execution_count": 29,
   "metadata": {},
   "outputs": [
    {
     "data": {
      "text/html": [
       "<div>\n",
       "<style scoped>\n",
       "    .dataframe tbody tr th:only-of-type {\n",
       "        vertical-align: middle;\n",
       "    }\n",
       "\n",
       "    .dataframe tbody tr th {\n",
       "        vertical-align: top;\n",
       "    }\n",
       "\n",
       "    .dataframe thead th {\n",
       "        text-align: right;\n",
       "    }\n",
       "</style>\n",
       "<table border=\"1\" class=\"dataframe\">\n",
       "  <thead>\n",
       "    <tr style=\"text-align: right;\">\n",
       "      <th></th>\n",
       "      <th>InvoiceNo</th>\n",
       "      <th>StockCode</th>\n",
       "      <th>Description</th>\n",
       "      <th>Quantity</th>\n",
       "      <th>InvoiceDate</th>\n",
       "      <th>UnitPrice</th>\n",
       "      <th>CustomerID</th>\n",
       "      <th>Country</th>\n",
       "      <th>month</th>\n",
       "      <th>year</th>\n",
       "      <th>weekday</th>\n",
       "      <th>No_of_Week</th>\n",
       "      <th>High_month</th>\n",
       "      <th>Price_rank</th>\n",
       "    </tr>\n",
       "  </thead>\n",
       "  <tbody>\n",
       "    <tr>\n",
       "      <th>0</th>\n",
       "      <td>6141</td>\n",
       "      <td>1583</td>\n",
       "      <td>144</td>\n",
       "      <td>3</td>\n",
       "      <td>2011-05-06 16:54:00</td>\n",
       "      <td>3.75</td>\n",
       "      <td>14056.0</td>\n",
       "      <td>35</td>\n",
       "      <td>5</td>\n",
       "      <td>2011</td>\n",
       "      <td>4</td>\n",
       "      <td>18</td>\n",
       "      <td>7</td>\n",
       "      <td>8</td>\n",
       "    </tr>\n",
       "    <tr>\n",
       "      <th>1</th>\n",
       "      <td>6349</td>\n",
       "      <td>1300</td>\n",
       "      <td>3682</td>\n",
       "      <td>6</td>\n",
       "      <td>2011-05-11 07:35:00</td>\n",
       "      <td>1.95</td>\n",
       "      <td>13098.0</td>\n",
       "      <td>35</td>\n",
       "      <td>5</td>\n",
       "      <td>2011</td>\n",
       "      <td>2</td>\n",
       "      <td>19</td>\n",
       "      <td>7</td>\n",
       "      <td>4</td>\n",
       "    </tr>\n",
       "  </tbody>\n",
       "</table>\n",
       "</div>"
      ],
      "text/plain": [
       "   InvoiceNo  StockCode  Description  Quantity         InvoiceDate  UnitPrice  \\\n",
       "0       6141       1583          144         3 2011-05-06 16:54:00       3.75   \n",
       "1       6349       1300         3682         6 2011-05-11 07:35:00       1.95   \n",
       "\n",
       "   CustomerID  Country  month  year  weekday  No_of_Week  High_month  \\\n",
       "0     14056.0       35      5  2011        4          18           7   \n",
       "1     13098.0       35      5  2011        2          19           7   \n",
       "\n",
       "   Price_rank  \n",
       "0           8  \n",
       "1           4  "
      ]
     },
     "execution_count": 29,
     "metadata": {},
     "output_type": "execute_result"
    }
   ],
   "source": [
    "df.head(2)"
   ]
  },
  {
   "cell_type": "markdown",
   "metadata": {},
   "source": [
    "---\n",
    "<b>Create rank of mean UnitPrice based on per month sales of each description </b><p>\n",
    "\n",
    "<h5>(The price of the products may vary with each month! Keeping the seasonality of a product in mind, I'll rank each product description for every months average sales)\n",
    "    \n",
    "---"
   ]
  },
  {
   "cell_type": "markdown",
   "metadata": {},
   "source": [
    "<b><Font color=\"red\">Alert!!!!!!!! Running the below line will remove ranks from excel file! So, run with separate file name"
   ]
  },
  {
   "cell_type": "code",
   "execution_count": 30,
   "metadata": {},
   "outputs": [],
   "source": [
    "#important : creating file by sorting description & month based on mean UnitPrice\n",
    "\n",
    "# df.groupby(['month','Description']).agg('UnitPrice').mean().reset_index().sort_values(by='UnitPrice', ascending=False).to_excel('-month_description.xls')"
   ]
  },
  {
   "cell_type": "code",
   "execution_count": 31,
   "metadata": {},
   "outputs": [
    {
     "data": {
      "text/html": [
       "<div>\n",
       "<style scoped>\n",
       "    .dataframe tbody tr th:only-of-type {\n",
       "        vertical-align: middle;\n",
       "    }\n",
       "\n",
       "    .dataframe tbody tr th {\n",
       "        vertical-align: top;\n",
       "    }\n",
       "\n",
       "    .dataframe thead th {\n",
       "        text-align: right;\n",
       "    }\n",
       "</style>\n",
       "<table border=\"1\" class=\"dataframe\">\n",
       "  <thead>\n",
       "    <tr style=\"text-align: right;\">\n",
       "      <th></th>\n",
       "      <th>month</th>\n",
       "      <th>Description</th>\n",
       "      <th>UnitPrice</th>\n",
       "      <th>ID</th>\n",
       "      <th>Rank</th>\n",
       "    </tr>\n",
       "  </thead>\n",
       "  <tbody>\n",
       "    <tr>\n",
       "      <th>0</th>\n",
       "      <td>1</td>\n",
       "      <td>2140</td>\n",
       "      <td>195.9</td>\n",
       "      <td>1-2140</td>\n",
       "      <td>196</td>\n",
       "    </tr>\n",
       "    <tr>\n",
       "      <th>1</th>\n",
       "      <td>1</td>\n",
       "      <td>2898</td>\n",
       "      <td>165.0</td>\n",
       "      <td>1-2898</td>\n",
       "      <td>165</td>\n",
       "    </tr>\n",
       "    <tr>\n",
       "      <th>2</th>\n",
       "      <td>1</td>\n",
       "      <td>3621</td>\n",
       "      <td>125.0</td>\n",
       "      <td>1-3621</td>\n",
       "      <td>125</td>\n",
       "    </tr>\n",
       "    <tr>\n",
       "      <th>3</th>\n",
       "      <td>1</td>\n",
       "      <td>692</td>\n",
       "      <td>110.0</td>\n",
       "      <td>1-692</td>\n",
       "      <td>110</td>\n",
       "    </tr>\n",
       "    <tr>\n",
       "      <th>4</th>\n",
       "      <td>1</td>\n",
       "      <td>2933</td>\n",
       "      <td>65.0</td>\n",
       "      <td>1-2933</td>\n",
       "      <td>65</td>\n",
       "    </tr>\n",
       "  </tbody>\n",
       "</table>\n",
       "</div>"
      ],
      "text/plain": [
       "   month  Description  UnitPrice      ID  Rank\n",
       "0      1         2140      195.9  1-2140   196\n",
       "1      1         2898      165.0  1-2898   165\n",
       "2      1         3621      125.0  1-3621   125\n",
       "3      1          692      110.0   1-692   110\n",
       "4      1         2933       65.0  1-2933    65"
      ]
     },
     "execution_count": 31,
     "metadata": {},
     "output_type": "execute_result"
    }
   ],
   "source": [
    "#uploading the ranked excel file \n",
    "\n",
    "d_price_des = pd.read_excel('month_description.xls')\n",
    "d_price_des.head(5)"
   ]
  },
  {
   "cell_type": "markdown",
   "metadata": {},
   "source": [
    "ID - Field manufactured from month and description to create a unique combination<p>\n",
    "Rank - Average unit price rounded off to make a rank"
   ]
  },
  {
   "cell_type": "code",
   "execution_count": 32,
   "metadata": {},
   "outputs": [],
   "source": [
    "#creating a unique field by concatinate month and description\n",
    "\n",
    "df['month_nd_des'] = df[['month', 'Description']].apply(lambda x: '-'.join(x.values.astype(str)), axis=1)\n"
   ]
  },
  {
   "cell_type": "code",
   "execution_count": 33,
   "metadata": {},
   "outputs": [],
   "source": [
    "#test set\n",
    "\n",
    "df_test['month_nd_des'] = df_test[['month', 'Description']].apply(lambda x: '-'.join(x.values.astype(str)), axis=1)"
   ]
  },
  {
   "cell_type": "markdown",
   "metadata": {},
   "source": [
    "month_nd_des filed in dataframe and ID field in excel has same attributes, so we can map the rankings based on this field"
   ]
  },
  {
   "cell_type": "code",
   "execution_count": 34,
   "metadata": {},
   "outputs": [],
   "source": [
    "#change the dataframe to dictionary for mapping \n",
    "\n",
    "dic_price_des=pd.Series(d_price_des.Rank.values,index=d_price_des.ID).to_dict()\n",
    "\n",
    "#map the dictionary with unique field\n",
    "\n",
    "df['Price_rank_des_month']=df['month_nd_des'].map(dic_price_des)\n",
    "\n",
    "#test set\n",
    "\n",
    "df_test['Price_rank_des_month']=df_test['month_nd_des'].map(dic_price_des)"
   ]
  },
  {
   "cell_type": "code",
   "execution_count": 35,
   "metadata": {},
   "outputs": [
    {
     "data": {
      "text/plain": [
       "2290"
      ]
     },
     "execution_count": 35,
     "metadata": {},
     "output_type": "execute_result"
    }
   ],
   "source": [
    "#Is there null values in Price_rank_des_month column in test set\n",
    "\n",
    "df_test['Price_rank_des_month'].isnull().sum()"
   ]
  },
  {
   "cell_type": "code",
   "execution_count": 36,
   "metadata": {},
   "outputs": [],
   "source": [
    "#Filling the Null values\n",
    "\n",
    "df_test['Price_rank_des_month'] = df_test['Price_rank_des_month'].ffill()"
   ]
  },
  {
   "cell_type": "code",
   "execution_count": 37,
   "metadata": {},
   "outputs": [],
   "source": [
    "#droping unnecessary fields, features have already extracted from these so dropped \n",
    "\n",
    "df = df.drop(['InvoiceDate','month_nd_des','Description','InvoiceNo','month','Quantity'],axis=1)\n",
    "df_test = df_test.drop(['InvoiceDate','month_nd_des','Description','InvoiceNo','month','Quantity'],axis=1)"
   ]
  },
  {
   "cell_type": "markdown",
   "metadata": {},
   "source": [
    "---\n",
    "<b>Final dataframe looks like"
   ]
  },
  {
   "cell_type": "code",
   "execution_count": 38,
   "metadata": {},
   "outputs": [
    {
     "data": {
      "text/html": [
       "<div>\n",
       "<style scoped>\n",
       "    .dataframe tbody tr th:only-of-type {\n",
       "        vertical-align: middle;\n",
       "    }\n",
       "\n",
       "    .dataframe tbody tr th {\n",
       "        vertical-align: top;\n",
       "    }\n",
       "\n",
       "    .dataframe thead th {\n",
       "        text-align: right;\n",
       "    }\n",
       "</style>\n",
       "<table border=\"1\" class=\"dataframe\">\n",
       "  <thead>\n",
       "    <tr style=\"text-align: right;\">\n",
       "      <th></th>\n",
       "      <th>StockCode</th>\n",
       "      <th>UnitPrice</th>\n",
       "      <th>CustomerID</th>\n",
       "      <th>Country</th>\n",
       "      <th>year</th>\n",
       "      <th>weekday</th>\n",
       "      <th>No_of_Week</th>\n",
       "      <th>High_month</th>\n",
       "      <th>Price_rank</th>\n",
       "      <th>Price_rank_des_month</th>\n",
       "    </tr>\n",
       "  </thead>\n",
       "  <tbody>\n",
       "    <tr>\n",
       "      <th>0</th>\n",
       "      <td>1583</td>\n",
       "      <td>3.75</td>\n",
       "      <td>14056.0</td>\n",
       "      <td>35</td>\n",
       "      <td>2011</td>\n",
       "      <td>4</td>\n",
       "      <td>18</td>\n",
       "      <td>7</td>\n",
       "      <td>8</td>\n",
       "      <td>4</td>\n",
       "    </tr>\n",
       "    <tr>\n",
       "      <th>1</th>\n",
       "      <td>1300</td>\n",
       "      <td>1.95</td>\n",
       "      <td>13098.0</td>\n",
       "      <td>35</td>\n",
       "      <td>2011</td>\n",
       "      <td>2</td>\n",
       "      <td>19</td>\n",
       "      <td>7</td>\n",
       "      <td>4</td>\n",
       "      <td>2</td>\n",
       "    </tr>\n",
       "    <tr>\n",
       "      <th>2</th>\n",
       "      <td>2178</td>\n",
       "      <td>5.95</td>\n",
       "      <td>15044.0</td>\n",
       "      <td>35</td>\n",
       "      <td>2011</td>\n",
       "      <td>6</td>\n",
       "      <td>46</td>\n",
       "      <td>12</td>\n",
       "      <td>11</td>\n",
       "      <td>6</td>\n",
       "    </tr>\n",
       "    <tr>\n",
       "      <th>3</th>\n",
       "      <td>2115</td>\n",
       "      <td>0.83</td>\n",
       "      <td>15525.0</td>\n",
       "      <td>35</td>\n",
       "      <td>2011</td>\n",
       "      <td>1</td>\n",
       "      <td>47</td>\n",
       "      <td>12</td>\n",
       "      <td>2</td>\n",
       "      <td>1</td>\n",
       "    </tr>\n",
       "    <tr>\n",
       "      <th>4</th>\n",
       "      <td>1210</td>\n",
       "      <td>1.65</td>\n",
       "      <td>13952.0</td>\n",
       "      <td>35</td>\n",
       "      <td>2011</td>\n",
       "      <td>4</td>\n",
       "      <td>18</td>\n",
       "      <td>7</td>\n",
       "      <td>4</td>\n",
       "      <td>2</td>\n",
       "    </tr>\n",
       "  </tbody>\n",
       "</table>\n",
       "</div>"
      ],
      "text/plain": [
       "   StockCode  UnitPrice  CustomerID  Country  year  weekday  No_of_Week  \\\n",
       "0       1583       3.75     14056.0       35  2011        4          18   \n",
       "1       1300       1.95     13098.0       35  2011        2          19   \n",
       "2       2178       5.95     15044.0       35  2011        6          46   \n",
       "3       2115       0.83     15525.0       35  2011        1          47   \n",
       "4       1210       1.65     13952.0       35  2011        4          18   \n",
       "\n",
       "   High_month  Price_rank  Price_rank_des_month  \n",
       "0           7           8                     4  \n",
       "1           7           4                     2  \n",
       "2          12          11                     6  \n",
       "3          12           2                     1  \n",
       "4           7           4                     2  "
      ]
     },
     "execution_count": 38,
     "metadata": {},
     "output_type": "execute_result"
    }
   ],
   "source": [
    "df.head()"
   ]
  },
  {
   "cell_type": "code",
   "execution_count": 39,
   "metadata": {},
   "outputs": [
    {
     "data": {
      "text/html": [
       "<div>\n",
       "<style scoped>\n",
       "    .dataframe tbody tr th:only-of-type {\n",
       "        vertical-align: middle;\n",
       "    }\n",
       "\n",
       "    .dataframe tbody tr th {\n",
       "        vertical-align: top;\n",
       "    }\n",
       "\n",
       "    .dataframe thead th {\n",
       "        text-align: right;\n",
       "    }\n",
       "</style>\n",
       "<table border=\"1\" class=\"dataframe\">\n",
       "  <thead>\n",
       "    <tr style=\"text-align: right;\">\n",
       "      <th></th>\n",
       "      <th>StockCode</th>\n",
       "      <th>CustomerID</th>\n",
       "      <th>Country</th>\n",
       "      <th>year</th>\n",
       "      <th>weekday</th>\n",
       "      <th>No_of_Week</th>\n",
       "      <th>High_month</th>\n",
       "      <th>Price_rank</th>\n",
       "      <th>Price_rank_des_month</th>\n",
       "    </tr>\n",
       "  </thead>\n",
       "  <tbody>\n",
       "    <tr>\n",
       "      <th>0</th>\n",
       "      <td>1709</td>\n",
       "      <td>16161.0</td>\n",
       "      <td>35</td>\n",
       "      <td>2011</td>\n",
       "      <td>1</td>\n",
       "      <td>8</td>\n",
       "      <td>1</td>\n",
       "      <td>4.0</td>\n",
       "      <td>2.0</td>\n",
       "    </tr>\n",
       "    <tr>\n",
       "      <th>1</th>\n",
       "      <td>510</td>\n",
       "      <td>17341.0</td>\n",
       "      <td>35</td>\n",
       "      <td>2010</td>\n",
       "      <td>2</td>\n",
       "      <td>49</td>\n",
       "      <td>9</td>\n",
       "      <td>3.0</td>\n",
       "      <td>1.0</td>\n",
       "    </tr>\n",
       "    <tr>\n",
       "      <th>2</th>\n",
       "      <td>604</td>\n",
       "      <td>15158.0</td>\n",
       "      <td>35</td>\n",
       "      <td>2011</td>\n",
       "      <td>1</td>\n",
       "      <td>43</td>\n",
       "      <td>11</td>\n",
       "      <td>8.0</td>\n",
       "      <td>4.0</td>\n",
       "    </tr>\n",
       "    <tr>\n",
       "      <th>3</th>\n",
       "      <td>1478</td>\n",
       "      <td>16033.0</td>\n",
       "      <td>35</td>\n",
       "      <td>2011</td>\n",
       "      <td>0</td>\n",
       "      <td>26</td>\n",
       "      <td>10</td>\n",
       "      <td>4.0</td>\n",
       "      <td>2.0</td>\n",
       "    </tr>\n",
       "    <tr>\n",
       "      <th>4</th>\n",
       "      <td>3216</td>\n",
       "      <td>15351.0</td>\n",
       "      <td>35</td>\n",
       "      <td>2011</td>\n",
       "      <td>6</td>\n",
       "      <td>44</td>\n",
       "      <td>12</td>\n",
       "      <td>17.0</td>\n",
       "      <td>13.0</td>\n",
       "    </tr>\n",
       "  </tbody>\n",
       "</table>\n",
       "</div>"
      ],
      "text/plain": [
       "   StockCode  CustomerID  Country  year  weekday  No_of_Week  High_month  \\\n",
       "0       1709     16161.0       35  2011        1           8           1   \n",
       "1        510     17341.0       35  2010        2          49           9   \n",
       "2        604     15158.0       35  2011        1          43          11   \n",
       "3       1478     16033.0       35  2011        0          26          10   \n",
       "4       3216     15351.0       35  2011        6          44          12   \n",
       "\n",
       "   Price_rank  Price_rank_des_month  \n",
       "0         4.0                   2.0  \n",
       "1         3.0                   1.0  \n",
       "2         8.0                   4.0  \n",
       "3         4.0                   2.0  \n",
       "4        17.0                  13.0  "
      ]
     },
     "execution_count": 39,
     "metadata": {},
     "output_type": "execute_result"
    }
   ],
   "source": [
    "df_test.head()"
   ]
  },
  {
   "cell_type": "markdown",
   "metadata": {},
   "source": [
    "---\n",
    "<h1>3. Preparing data for model building\n",
    "    \n",
    "---"
   ]
  },
  {
   "cell_type": "code",
   "execution_count": 40,
   "metadata": {},
   "outputs": [],
   "source": [
    "#Divide the data into Feature and Label component\n",
    "\n",
    "X = df.drop(['UnitPrice'],axis=1).values \n",
    "y = np.log1p(df['UnitPrice'].values) #taking log of UnitPrice for the skewed value"
   ]
  },
  {
   "cell_type": "code",
   "execution_count": 41,
   "metadata": {},
   "outputs": [],
   "source": [
    "#saving column names as features\n",
    "feature = df.drop(['UnitPrice'],axis=1).columns"
   ]
  },
  {
   "cell_type": "code",
   "execution_count": 42,
   "metadata": {},
   "outputs": [],
   "source": [
    "#preparing test set\n",
    "\n",
    "x1_test = df_test.values"
   ]
  },
  {
   "cell_type": "code",
   "execution_count": 43,
   "metadata": {},
   "outputs": [],
   "source": [
    "#split the data in train and test sets\n",
    "\n",
    "from sklearn.model_selection import train_test_split\n",
    "X_train, X_test, y_train, y_test = train_test_split(X, y, test_size=0.30,random_state=42) "
   ]
  },
  {
   "cell_type": "code",
   "execution_count": 44,
   "metadata": {},
   "outputs": [],
   "source": [
    "#scale the data\n",
    "\n",
    "from sklearn.preprocessing import MinMaxScaler\n",
    "scaler = MinMaxScaler()\n",
    "\n",
    "# from sklearn.preprocessing import RobustScaler\n",
    "# scaler = RobustScaler()\n",
    "# RobustScaler didn't work well\n",
    "\n",
    "X_train = scaler.fit_transform(X_train)\n",
    "X_test = scaler.transform(X_test)"
   ]
  },
  {
   "cell_type": "code",
   "execution_count": 45,
   "metadata": {},
   "outputs": [],
   "source": [
    "#scaling the test set\n",
    "\n",
    "x1_test = scaler.transform(x1_test)"
   ]
  },
  {
   "cell_type": "code",
   "execution_count": 46,
   "metadata": {},
   "outputs": [],
   "source": [
    "#Scaled the all train dataset for future use\n",
    "\n",
    "X1_main = scaler.transform(X)"
   ]
  },
  {
   "cell_type": "markdown",
   "metadata": {},
   "source": [
    "---\n",
    "<h1>4. Test different Machine Learning Algorithms\n",
    "    \n",
    "---"
   ]
  },
  {
   "cell_type": "code",
   "execution_count": 47,
   "metadata": {},
   "outputs": [],
   "source": [
    "from sklearn.ensemble import GradientBoostingRegressor\n",
    "from xgboost import XGBRegressor\n",
    "from sklearn.metrics import mean_squared_error, explained_variance_score,r2_score"
   ]
  },
  {
   "cell_type": "markdown",
   "metadata": {},
   "source": [
    "<b>Algorith Strategy:</b> We'll first use GradientBoosting algorithm to train and predict the price and then tune to increase the accuracy of it"
   ]
  },
  {
   "cell_type": "code",
   "execution_count": 48,
   "metadata": {},
   "outputs": [],
   "source": [
    "# model_gb = GradientBoostingRegressor(n_estimators=160, max_depth=8, learning_rate=0.1)\n",
    "# model_gb.fit(X_train,y_train)"
   ]
  },
  {
   "cell_type": "code",
   "execution_count": 49,
   "metadata": {},
   "outputs": [],
   "source": [
    "# pred_gb = np.expm1(model_gb.predict(X_test))\n",
    "\n",
    "# y_true = np.expm1(y_test)\n",
    "\n",
    "# print(\"mean_squared_error=\",mean_squared_error(y_true,pred_gb))\n",
    "# print(\"explained_variance_score=\",explained_variance_score(y_true,pred_gb))\n",
    "# print(\"RMSE=\",np.sqrt(mean_squared_error(y_true,pred_gb)))\n",
    "# print(\"r2_score=\",r2_score(y_true,pred_gb))"
   ]
  },
  {
   "cell_type": "code",
   "execution_count": 50,
   "metadata": {},
   "outputs": [],
   "source": [
    "# pred_gb_train = np.expm1(model_gb.predict(X_train))\n",
    "\n",
    "# y_true_train = np.expm1(y_train)\n",
    "# print(\"mean_squared_error=\",mean_squared_error(y_true_train,pred_gb_train))\n",
    "# print(\"explained_variance_score=\",explained_variance_score(y_true_train,pred_gb_train))\n",
    "# print(\"RMSE=\",np.sqrt(mean_squared_error(y_true_train,pred_gb_train)))\n",
    "\n",
    "# print(\"r2_score=\",r2_score(y_true_train,pred_gb_train))"
   ]
  },
  {
   "cell_type": "code",
   "execution_count": null,
   "metadata": {},
   "outputs": [],
   "source": []
  },
  {
   "cell_type": "markdown",
   "metadata": {},
   "source": [
    "---\n",
    "\n",
    "<b><font color=\"green\">To reduce RMSE more I choose xgboost as my Final Model"
   ]
  },
  {
   "cell_type": "code",
   "execution_count": 51,
   "metadata": {},
   "outputs": [
    {
     "data": {
      "text/plain": [
       "XGBRegressor(base_score=None, booster=None, colsample_bylevel=None,\n",
       "             colsample_bynode=None, colsample_bytree=None, gamma=None,\n",
       "             gpu_id=None, importance_type='gain', interaction_constraints=None,\n",
       "             learning_rate=None, max_delta_step=None, max_depth=None,\n",
       "             min_child_weight=None, missing=nan, monotone_constraints=None,\n",
       "             n_estimators=100, n_jobs=None, num_parallel_tree=None,\n",
       "             random_state=None, reg_alpha=None, reg_lambda=None,\n",
       "             scale_pos_weight=None, subsample=None, tree_method=None,\n",
       "             validate_parameters=None, verbosity=None)"
      ]
     },
     "execution_count": 51,
     "metadata": {},
     "output_type": "execute_result"
    }
   ],
   "source": [
    "from xgboost import XGBRegressor\n",
    "XGBRegressor()"
   ]
  },
  {
   "cell_type": "markdown",
   "metadata": {},
   "source": [
    "<font color=\"green\">I tried manual tuning of the hyperparameters, as Gridsearch CV was taking too long time due to limited resources"
   ]
  },
  {
   "cell_type": "code",
   "execution_count": 52,
   "metadata": {},
   "outputs": [
    {
     "data": {
      "text/plain": [
       "XGBRegressor(base_score=0.5, booster='gbtree', colsample_bylevel=1,\n",
       "             colsample_bynode=1, colsample_bytree=1, gamma=0, gpu_id=-1,\n",
       "             importance_type='gain', interaction_constraints='',\n",
       "             learning_rate=0.13, max_delta_step=0, max_depth=10,\n",
       "             min_child_weight=1, missing=nan, monotone_constraints='()',\n",
       "             n_estimators=260, n_jobs=0, num_parallel_tree=1, random_state=0,\n",
       "             reg_alpha=0, reg_lambda=0.001, scale_pos_weight=1, subsample=0.5,\n",
       "             tree_method='exact', validate_parameters=1, verbosity=None)"
      ]
     },
     "execution_count": 52,
     "metadata": {},
     "output_type": "execute_result"
    }
   ],
   "source": [
    "# model_xgb = XGBRegressor(n_estimators=200, max_depth=7, learning_rate=0.1,subsample = 0.5) #First try\n",
    "# model_xgb = XGBRegressor(n_estimators=300, max_depth=8, learning_rate=0.1,subsample = 0.5,reg_lambda=0.01)#RMSE 21.975\n",
    "# model_xgb = XGBRegressor(n_estimators=300, max_depth=9, learning_rate=0.1,subsample = 0.5,reg_lambda=0.01)# RMSE 21.76\n",
    "# model_xgb = XGBRegressor(n_estimators=300, max_depth=10, learning_rate=0.1,subsample = 0.5,reg_lambda=0.01)#RMSE 21.35\n",
    "# model_xgb = XGBRegressor(n_estimators=300, max_depth=10, learning_rate=0.1,subsample = 0.5,reg_lambda=0.005) #RMSE 20.70412\n",
    "# model_xgb = XGBRegressor(n_estimators=250, max_depth=10, learning_rate=0.1,subsample = 0.5,reg_lambda=0.005) #RMSE 20.593\n",
    "# model_xgb = XGBRegressor(n_estimators=250, max_depth=10, learning_rate=0.12,subsample = 0.5,reg_lambda=0.005) #RMSE 20.54\n",
    "# model_xgb = XGBRegressor(n_estimators=230, max_depth=10,learning_rate=0.13,subsample = 0.5,reg_lambda=0.001) #RMSE 19.962\n",
    "# model_xgb = XGBRegressor(n_estimators=240, max_depth=10,learning_rate=0.13,subsample = 0.5,reg_lambda=0.001) #RMSE 19.699\n",
    "model_xgb = XGBRegressor(n_estimators=260, max_depth=10,learning_rate=0.13,subsample = 0.5,reg_lambda=0.001) #RMSE 19.06\n",
    "\n",
    "\n",
    "model_xgb.fit(X_train,y_train)"
   ]
  },
  {
   "cell_type": "code",
   "execution_count": 53,
   "metadata": {},
   "outputs": [
    {
     "name": "stdout",
     "output_type": "stream",
     "text": [
      "mean_squared_error= 18590.707193743718\n",
      "explained_variance_score= 0.02862293423033402\n",
      "RMSE= 136.34774363275588\n",
      "r2_score= 0.028602191978287728\n"
     ]
    }
   ],
   "source": [
    "pred_xgb = np.expm1(model_xgb.predict(X_test)) #prediction (exponential taken as it was log term)\n",
    "\n",
    "y_true = np.expm1(y_test)  #original y_test\n",
    "\n",
    "print(\"mean_squared_error=\",mean_squared_error(y_true,pred_xgb))\n",
    "print(\"explained_variance_score=\",explained_variance_score(y_true,pred_xgb))\n",
    "print(\"RMSE=\",np.sqrt(mean_squared_error(y_true,pred_xgb)))\n",
    "\n",
    "print(\"r2_score=\",r2_score(y_true,pred_xgb))"
   ]
  },
  {
   "cell_type": "code",
   "execution_count": 54,
   "metadata": {},
   "outputs": [
    {
     "name": "stdout",
     "output_type": "stream",
     "text": [
      "mean_squared_error= 37.41017417951472\n",
      "explained_variance_score= 0.9353366729950122\n",
      "RMSE= 6.116385712127279\n",
      "r2_score= 0.9353361336787943\n"
     ]
    }
   ],
   "source": [
    "# Accuracy calculation in Train data\n",
    "\n",
    "pred_xgb_train = np.expm1(model_xgb.predict(X_train))\n",
    "\n",
    "y_true_train = np.expm1(y_train)\n",
    "print(\"mean_squared_error=\",mean_squared_error(y_true_train,pred_xgb_train))\n",
    "print(\"explained_variance_score=\",explained_variance_score(y_true_train,pred_xgb_train))\n",
    "print(\"RMSE=\",np.sqrt(mean_squared_error(y_true_train,pred_xgb_train)))\n",
    "\n",
    "print(\"r2_score=\",r2_score(y_true_train,pred_xgb_train))"
   ]
  },
  {
   "cell_type": "code",
   "execution_count": 55,
   "metadata": {},
   "outputs": [
    {
     "data": {
      "text/plain": [
       "<matplotlib.axes._subplots.AxesSubplot at 0x17b1c0e7520>"
      ]
     },
     "execution_count": 55,
     "metadata": {},
     "output_type": "execute_result"
    },
    {
     "data": {
      "image/png": "[encoded data removed]",
      "text/plain": [
       "<Figure size 864x576 with 1 Axes>"
      ]
     },
     "metadata": {
      "needs_background": "light"
     },
     "output_type": "display_data"
    }
   ],
   "source": [
    "#Feature importance plot\n",
    "\n",
    "imp_feat=pd.Series(model_xgb.feature_importances_,index=feature)\n",
    "plt.figure(figsize=(12,8))\n",
    "imp_feat.sort_values(ascending=False).plot(kind='bar')"
   ]
  },
  {
   "cell_type": "code",
   "execution_count": 56,
   "metadata": {},
   "outputs": [
    {
     "data": {
      "text/plain": [
       "[<matplotlib.lines.Line2D at 0x17b1c882d60>]"
      ]
     },
     "execution_count": 56,
     "metadata": {},
     "output_type": "execute_result"
    },
    {
     "data": {
      "image/png": "[encoded data removed]",
      "text/plain": [
       "<Figure size 864x576 with 1 Axes>"
      ]
     },
     "metadata": {
      "needs_background": "light"
     },
     "output_type": "display_data"
    }
   ],
   "source": [
    "#prediction plot\n",
    "plt.figure(figsize=(12,8))\n",
    "plt.scatter(y_true,pred_xgb)\n",
    "plt.plot(y_true,y_true,'r')"
   ]
  },
  {
   "cell_type": "code",
   "execution_count": null,
   "metadata": {},
   "outputs": [],
   "source": []
  },
  {
   "cell_type": "markdown",
   "metadata": {},
   "source": [
    "<b><u>To improve the prediction, tried to add new prediction to the dataframe and used it as a field to predict again"
   ]
  },
  {
   "cell_type": "code",
   "execution_count": null,
   "metadata": {},
   "outputs": [],
   "source": []
  },
  {
   "cell_type": "code",
   "execution_count": 57,
   "metadata": {},
   "outputs": [],
   "source": [
    "df_new = df #assign the train data to a new dataframe"
   ]
  },
  {
   "cell_type": "code",
   "execution_count": 58,
   "metadata": {},
   "outputs": [],
   "source": [
    "df_test_new = df_test #assign the test data to a new dataframe"
   ]
  },
  {
   "cell_type": "code",
   "execution_count": 59,
   "metadata": {},
   "outputs": [],
   "source": [
    "pred_final = np.expm1(model_xgb.predict(x1_test)) #prediction on test set"
   ]
  },
  {
   "cell_type": "code",
   "execution_count": 60,
   "metadata": {},
   "outputs": [],
   "source": [
    "df_test_new['Pred_price'] = pred_final #add prediction of test set to the test set dataframe as a column"
   ]
  },
  {
   "cell_type": "code",
   "execution_count": 61,
   "metadata": {},
   "outputs": [
    {
     "data": {
      "text/html": [
       "<div>\n",
       "<style scoped>\n",
       "    .dataframe tbody tr th:only-of-type {\n",
       "        vertical-align: middle;\n",
       "    }\n",
       "\n",
       "    .dataframe tbody tr th {\n",
       "        vertical-align: top;\n",
       "    }\n",
       "\n",
       "    .dataframe thead th {\n",
       "        text-align: right;\n",
       "    }\n",
       "</style>\n",
       "<table border=\"1\" class=\"dataframe\">\n",
       "  <thead>\n",
       "    <tr style=\"text-align: right;\">\n",
       "      <th></th>\n",
       "      <th>StockCode</th>\n",
       "      <th>CustomerID</th>\n",
       "      <th>Country</th>\n",
       "      <th>year</th>\n",
       "      <th>weekday</th>\n",
       "      <th>No_of_Week</th>\n",
       "      <th>High_month</th>\n",
       "      <th>Price_rank</th>\n",
       "      <th>Price_rank_des_month</th>\n",
       "      <th>Pred_price</th>\n",
       "    </tr>\n",
       "  </thead>\n",
       "  <tbody>\n",
       "    <tr>\n",
       "      <th>0</th>\n",
       "      <td>1709</td>\n",
       "      <td>16161.0</td>\n",
       "      <td>35</td>\n",
       "      <td>2011</td>\n",
       "      <td>1</td>\n",
       "      <td>8</td>\n",
       "      <td>1</td>\n",
       "      <td>4.0</td>\n",
       "      <td>2.0</td>\n",
       "      <td>1.704831</td>\n",
       "    </tr>\n",
       "    <tr>\n",
       "      <th>1</th>\n",
       "      <td>510</td>\n",
       "      <td>17341.0</td>\n",
       "      <td>35</td>\n",
       "      <td>2010</td>\n",
       "      <td>2</td>\n",
       "      <td>49</td>\n",
       "      <td>9</td>\n",
       "      <td>3.0</td>\n",
       "      <td>1.0</td>\n",
       "      <td>1.246592</td>\n",
       "    </tr>\n",
       "    <tr>\n",
       "      <th>2</th>\n",
       "      <td>604</td>\n",
       "      <td>15158.0</td>\n",
       "      <td>35</td>\n",
       "      <td>2011</td>\n",
       "      <td>1</td>\n",
       "      <td>43</td>\n",
       "      <td>11</td>\n",
       "      <td>8.0</td>\n",
       "      <td>4.0</td>\n",
       "      <td>3.902684</td>\n",
       "    </tr>\n",
       "    <tr>\n",
       "      <th>3</th>\n",
       "      <td>1478</td>\n",
       "      <td>16033.0</td>\n",
       "      <td>35</td>\n",
       "      <td>2011</td>\n",
       "      <td>0</td>\n",
       "      <td>26</td>\n",
       "      <td>10</td>\n",
       "      <td>4.0</td>\n",
       "      <td>2.0</td>\n",
       "      <td>1.680385</td>\n",
       "    </tr>\n",
       "    <tr>\n",
       "      <th>4</th>\n",
       "      <td>3216</td>\n",
       "      <td>15351.0</td>\n",
       "      <td>35</td>\n",
       "      <td>2011</td>\n",
       "      <td>6</td>\n",
       "      <td>44</td>\n",
       "      <td>12</td>\n",
       "      <td>17.0</td>\n",
       "      <td>13.0</td>\n",
       "      <td>12.727825</td>\n",
       "    </tr>\n",
       "  </tbody>\n",
       "</table>\n",
       "</div>"
      ],
      "text/plain": [
       "   StockCode  CustomerID  Country  year  weekday  No_of_Week  High_month  \\\n",
       "0       1709     16161.0       35  2011        1           8           1   \n",
       "1        510     17341.0       35  2010        2          49           9   \n",
       "2        604     15158.0       35  2011        1          43          11   \n",
       "3       1478     16033.0       35  2011        0          26          10   \n",
       "4       3216     15351.0       35  2011        6          44          12   \n",
       "\n",
       "   Price_rank  Price_rank_des_month  Pred_price  \n",
       "0         4.0                   2.0    1.704831  \n",
       "1         3.0                   1.0    1.246592  \n",
       "2         8.0                   4.0    3.902684  \n",
       "3         4.0                   2.0    1.680385  \n",
       "4        17.0                  13.0   12.727825  "
      ]
     },
     "execution_count": 61,
     "metadata": {},
     "output_type": "execute_result"
    }
   ],
   "source": [
    "df_test_new.head() #new test set"
   ]
  },
  {
   "cell_type": "code",
   "execution_count": 62,
   "metadata": {},
   "outputs": [],
   "source": [
    "pred_final_main = np.expm1(model_xgb.predict(X1_main)) #prediction on train set"
   ]
  },
  {
   "cell_type": "code",
   "execution_count": 63,
   "metadata": {},
   "outputs": [
    {
     "data": {
      "text/html": [
       "<div>\n",
       "<style scoped>\n",
       "    .dataframe tbody tr th:only-of-type {\n",
       "        vertical-align: middle;\n",
       "    }\n",
       "\n",
       "    .dataframe tbody tr th {\n",
       "        vertical-align: top;\n",
       "    }\n",
       "\n",
       "    .dataframe thead th {\n",
       "        text-align: right;\n",
       "    }\n",
       "</style>\n",
       "<table border=\"1\" class=\"dataframe\">\n",
       "  <thead>\n",
       "    <tr style=\"text-align: right;\">\n",
       "      <th></th>\n",
       "      <th>StockCode</th>\n",
       "      <th>UnitPrice</th>\n",
       "      <th>CustomerID</th>\n",
       "      <th>Country</th>\n",
       "      <th>year</th>\n",
       "      <th>weekday</th>\n",
       "      <th>No_of_Week</th>\n",
       "      <th>High_month</th>\n",
       "      <th>Price_rank</th>\n",
       "      <th>Price_rank_des_month</th>\n",
       "      <th>Pred_price</th>\n",
       "    </tr>\n",
       "  </thead>\n",
       "  <tbody>\n",
       "    <tr>\n",
       "      <th>28671</th>\n",
       "      <td>927</td>\n",
       "      <td>1.25</td>\n",
       "      <td>14554.0</td>\n",
       "      <td>35</td>\n",
       "      <td>2011</td>\n",
       "      <td>1</td>\n",
       "      <td>42</td>\n",
       "      <td>11</td>\n",
       "      <td>4</td>\n",
       "      <td>1</td>\n",
       "      <td>1.246382</td>\n",
       "    </tr>\n",
       "    <tr>\n",
       "      <th>169437</th>\n",
       "      <td>1457</td>\n",
       "      <td>0.29</td>\n",
       "      <td>16729.0</td>\n",
       "      <td>35</td>\n",
       "      <td>2011</td>\n",
       "      <td>1</td>\n",
       "      <td>44</td>\n",
       "      <td>12</td>\n",
       "      <td>2</td>\n",
       "      <td>0</td>\n",
       "      <td>0.292506</td>\n",
       "    </tr>\n",
       "    <tr>\n",
       "      <th>259518</th>\n",
       "      <td>1662</td>\n",
       "      <td>1.95</td>\n",
       "      <td>13760.0</td>\n",
       "      <td>35</td>\n",
       "      <td>2011</td>\n",
       "      <td>6</td>\n",
       "      <td>41</td>\n",
       "      <td>11</td>\n",
       "      <td>5</td>\n",
       "      <td>2</td>\n",
       "      <td>2.000372</td>\n",
       "    </tr>\n",
       "    <tr>\n",
       "      <th>205369</th>\n",
       "      <td>2077</td>\n",
       "      <td>4.95</td>\n",
       "      <td>16938.0</td>\n",
       "      <td>35</td>\n",
       "      <td>2011</td>\n",
       "      <td>3</td>\n",
       "      <td>48</td>\n",
       "      <td>9</td>\n",
       "      <td>10</td>\n",
       "      <td>5</td>\n",
       "      <td>4.914913</td>\n",
       "    </tr>\n",
       "    <tr>\n",
       "      <th>55839</th>\n",
       "      <td>1481</td>\n",
       "      <td>8.50</td>\n",
       "      <td>14711.0</td>\n",
       "      <td>35</td>\n",
       "      <td>2011</td>\n",
       "      <td>1</td>\n",
       "      <td>46</td>\n",
       "      <td>12</td>\n",
       "      <td>14</td>\n",
       "      <td>9</td>\n",
       "      <td>8.307730</td>\n",
       "    </tr>\n",
       "    <tr>\n",
       "      <th>30339</th>\n",
       "      <td>349</td>\n",
       "      <td>0.85</td>\n",
       "      <td>12748.0</td>\n",
       "      <td>35</td>\n",
       "      <td>2011</td>\n",
       "      <td>3</td>\n",
       "      <td>7</td>\n",
       "      <td>1</td>\n",
       "      <td>2</td>\n",
       "      <td>1</td>\n",
       "      <td>0.827575</td>\n",
       "    </tr>\n",
       "    <tr>\n",
       "      <th>154998</th>\n",
       "      <td>440</td>\n",
       "      <td>0.85</td>\n",
       "      <td>13069.0</td>\n",
       "      <td>35</td>\n",
       "      <td>2011</td>\n",
       "      <td>3</td>\n",
       "      <td>15</td>\n",
       "      <td>4</td>\n",
       "      <td>2</td>\n",
       "      <td>1</td>\n",
       "      <td>0.840057</td>\n",
       "    </tr>\n",
       "    <tr>\n",
       "      <th>156384</th>\n",
       "      <td>2599</td>\n",
       "      <td>4.95</td>\n",
       "      <td>15518.0</td>\n",
       "      <td>35</td>\n",
       "      <td>2011</td>\n",
       "      <td>6</td>\n",
       "      <td>31</td>\n",
       "      <td>3</td>\n",
       "      <td>10</td>\n",
       "      <td>5</td>\n",
       "      <td>4.918236</td>\n",
       "    </tr>\n",
       "    <tr>\n",
       "      <th>74926</th>\n",
       "      <td>860</td>\n",
       "      <td>1.25</td>\n",
       "      <td>15033.0</td>\n",
       "      <td>35</td>\n",
       "      <td>2011</td>\n",
       "      <td>6</td>\n",
       "      <td>26</td>\n",
       "      <td>5</td>\n",
       "      <td>3</td>\n",
       "      <td>1</td>\n",
       "      <td>1.246242</td>\n",
       "    </tr>\n",
       "    <tr>\n",
       "      <th>102138</th>\n",
       "      <td>881</td>\n",
       "      <td>1.25</td>\n",
       "      <td>16556.0</td>\n",
       "      <td>35</td>\n",
       "      <td>2010</td>\n",
       "      <td>1</td>\n",
       "      <td>50</td>\n",
       "      <td>9</td>\n",
       "      <td>3</td>\n",
       "      <td>1</td>\n",
       "      <td>1.254353</td>\n",
       "    </tr>\n",
       "  </tbody>\n",
       "</table>\n",
       "</div>"
      ],
      "text/plain": [
       "        StockCode  UnitPrice  CustomerID  Country  year  weekday  No_of_Week  \\\n",
       "28671         927       1.25     14554.0       35  2011        1          42   \n",
       "169437       1457       0.29     16729.0       35  2011        1          44   \n",
       "259518       1662       1.95     13760.0       35  2011        6          41   \n",
       "205369       2077       4.95     16938.0       35  2011        3          48   \n",
       "55839        1481       8.50     14711.0       35  2011        1          46   \n",
       "30339         349       0.85     12748.0       35  2011        3           7   \n",
       "154998        440       0.85     13069.0       35  2011        3          15   \n",
       "156384       2599       4.95     15518.0       35  2011        6          31   \n",
       "74926         860       1.25     15033.0       35  2011        6          26   \n",
       "102138        881       1.25     16556.0       35  2010        1          50   \n",
       "\n",
       "        High_month  Price_rank  Price_rank_des_month  Pred_price  \n",
       "28671           11           4                     1    1.246382  \n",
       "169437          12           2                     0    0.292506  \n",
       "259518          11           5                     2    2.000372  \n",
       "205369           9          10                     5    4.914913  \n",
       "55839           12          14                     9    8.307730  \n",
       "30339            1           2                     1    0.827575  \n",
       "154998           4           2                     1    0.840057  \n",
       "156384           3          10                     5    4.918236  \n",
       "74926            5           3                     1    1.246242  \n",
       "102138           9           3                     1    1.254353  "
      ]
     },
     "execution_count": 63,
     "metadata": {},
     "output_type": "execute_result"
    }
   ],
   "source": [
    "df_new['Pred_price']=pred_final_main #add prediction of train set to the train set dataframe as a column\n",
    "df_new.sample(10)"
   ]
  },
  {
   "cell_type": "markdown",
   "metadata": {},
   "source": [
    "---"
   ]
  },
  {
   "cell_type": "markdown",
   "metadata": {},
   "source": [
    "Tried running xgboost repetatively to reduce score"
   ]
  },
  {
   "cell_type": "code",
   "execution_count": 64,
   "metadata": {},
   "outputs": [],
   "source": [
    "# #['UnitPrice','Description','InvoiceNo','month','Quantity','Price_rank','Price_rank_des_month']\n",
    "\n",
    "# df_new = df_new.drop(['Description','InvoiceNo','month','Quantity','Price_rank','Price_rank_des_month'],axis=1)\n",
    "# df_test_new = df_test_new.drop(['Description','InvoiceNo','month','Quantity','Price_rank','Price_rank_des_month'],axis=1)"
   ]
  },
  {
   "cell_type": "code",
   "execution_count": 65,
   "metadata": {},
   "outputs": [],
   "source": [
    "# i=0\n",
    "\n",
    "# while i<5:\n",
    "#     print(i)\n",
    "#     Xnew = df_new.drop(['UnitPrice'],axis=1).values \n",
    "#     ynew = np.log1p(df_new['UnitPrice'].values)\n",
    "#     X_train, X_test, y_train, y_test = train_test_split(Xnew, ynew, test_size=0.30,random_state=42)\n",
    "#     X_train = scaler.fit_transform(X_train)\n",
    "#     X_test = scaler.transform(X_test)\n",
    "#     X1new = scaler.transform(Xnew)\n",
    "#     x1_test_new = scaler.transform(df_test_new.values)\n",
    "    \n",
    "#     model_xgb = XGBRegressor(n_estimators=260, max_depth=10,learning_rate=0.13,subsample = 0.5,reg_lambda=0.001)\n",
    "#     model_xgb.fit(X_train,y_train)\n",
    "    \n",
    "#     pred_xgb = np.expm1(model_xgb.predict(X_test))\n",
    "#     y_true = np.expm1(y_test)\n",
    "#     print(\"r2_score=\",r2_score(y_true,pred_xgb))\n",
    "    \n",
    "#     pred_final_main = np.expm1(model_xgb.predict(X1new))\n",
    "#     df_new['Pred_price'] = pred_final_main\n",
    "    \n",
    "#     df_test_new['Pred_price'] = np.expm1(model_xgb.predict(x1_test_new))\n",
    "#     i=i+1"
   ]
  },
  {
   "cell_type": "markdown",
   "metadata": {},
   "source": [
    "Accuracy reduced from second itration"
   ]
  },
  {
   "cell_type": "markdown",
   "metadata": {},
   "source": [
    "---"
   ]
  },
  {
   "cell_type": "code",
   "execution_count": 66,
   "metadata": {},
   "outputs": [],
   "source": [
    "# Xnew = df.drop(['UnitPrice','Description','InvoiceNo','month','Quantity','Price_rank','Price_rank_des_month'],axis=1).values \n",
    "\n",
    "Xnew = df_new.drop(['UnitPrice','Price_rank','Price_rank_des_month'],axis=1).values \n",
    "ynew = np.log1p(df_new['UnitPrice'].values)"
   ]
  },
  {
   "cell_type": "code",
   "execution_count": 67,
   "metadata": {},
   "outputs": [],
   "source": [
    "x1_test_new = df_test_new.drop(['Price_rank','Price_rank_des_month'],axis=1).values"
   ]
  },
  {
   "cell_type": "code",
   "execution_count": 68,
   "metadata": {},
   "outputs": [],
   "source": [
    "feature_new = df_new.drop(['UnitPrice','Price_rank','Price_rank_des_month'],axis=1).columns"
   ]
  },
  {
   "cell_type": "code",
   "execution_count": 69,
   "metadata": {},
   "outputs": [],
   "source": [
    "X_train, X_test, y_train, y_test = train_test_split(Xnew, ynew, test_size=0.01,random_state=42)"
   ]
  },
  {
   "cell_type": "code",
   "execution_count": 70,
   "metadata": {},
   "outputs": [],
   "source": [
    "X_train = scaler.fit_transform(X_train)\n",
    "X_test = scaler.transform(X_test)"
   ]
  },
  {
   "cell_type": "code",
   "execution_count": 71,
   "metadata": {},
   "outputs": [],
   "source": [
    "x1_test_new = scaler.transform(x1_test_new)"
   ]
  },
  {
   "cell_type": "markdown",
   "metadata": {},
   "source": [
    "---\n",
    "\n",
    "<b>Used lightgbm\n",
    "    \n",
    "---"
   ]
  },
  {
   "cell_type": "code",
   "execution_count": 72,
   "metadata": {},
   "outputs": [],
   "source": [
    "# from lightgbm import LGBMRegressor\n",
    "# from sklearn.model_selection import GridSearchCV\n",
    "\n",
    "# xgb = LGBMRegressor()\n",
    "# parameters_lgb = {\n",
    "#     'n_estimators': [230,250,270],\n",
    "#     'max_depth': [9,10],\n",
    "#     'learning_rate':[0.8,0.1],\n",
    "#     'num_leaves':[180,200,250,300]\n",
    "    \n",
    "# }\n",
    "\n",
    "# cv_gb = GridSearchCV(xgb, parameters_lgb, cv=3) \n",
    "# cv_gb.fit(X_train, y_train)"
   ]
  },
  {
   "cell_type": "code",
   "execution_count": 73,
   "metadata": {},
   "outputs": [],
   "source": [
    "# cv_gb.best_params_\n",
    "# {'learning_rate': 0.1, 'max_depth': 10, 'n_estimators': 230, 'num_leaves': 200}"
   ]
  },
  {
   "cell_type": "code",
   "execution_count": 74,
   "metadata": {},
   "outputs": [],
   "source": [
    "# model_xgb=LGBMRegressor(n_estimators=600,max_depth=10,learning_rate=0.15,num_leaves=400,boosting_type = 'dart', lambda_l2=0.05)\n",
    "# model_xgb.fit(X_train,y_train)"
   ]
  },
  {
   "cell_type": "markdown",
   "metadata": {},
   "source": [
    "The score has not improved"
   ]
  },
  {
   "cell_type": "markdown",
   "metadata": {},
   "source": [
    "---\n",
    "\n",
    "<b>Used xgboost again"
   ]
  },
  {
   "cell_type": "code",
   "execution_count": 89,
   "metadata": {},
   "outputs": [
    {
     "data": {
      "text/plain": [
       "XGBRegressor(base_score=0.5, booster='gbtree', colsample_bylevel=1,\n",
       "             colsample_bynode=1, colsample_bytree=1, gamma=0, gpu_id=-1,\n",
       "             importance_type='gain', interaction_constraints='',\n",
       "             learning_rate=0.2, max_delta_step=0, max_depth=10,\n",
       "             min_child_weight=1, missing=nan, monotone_constraints='()',\n",
       "             n_estimators=400, n_jobs=0, num_parallel_tree=1, random_state=0,\n",
       "             reg_alpha=0, reg_lambda=0.001, scale_pos_weight=1, subsample=0.5,\n",
       "             tree_method='exact', validate_parameters=1, verbosity=None)"
      ]
     },
     "execution_count": 89,
     "metadata": {},
     "output_type": "execute_result"
    }
   ],
   "source": [
    "# model_xgb = XGBRegressor(n_estimators=260, max_depth=10,learning_rate=0.13,subsample = 0.5,reg_lambda=0.001) #18.05160\n",
    "\n",
    "model_xgb = XGBRegressor(n_estimators=400, max_depth=10,learning_rate=0.2,subsample = 0.5,reg_lambda=0.001) \n",
    "model_xgb.fit(X_train,y_train)"
   ]
  },
  {
   "cell_type": "code",
   "execution_count": 90,
   "metadata": {},
   "outputs": [
    {
     "name": "stdout",
     "output_type": "stream",
     "text": [
      "mean_squared_error= 340.0213269471021\n",
      "explained_variance_score= 0.5957233791810517\n",
      "RMSE= 18.43966721356712\n",
      "r2_score= 0.5954369620921189\n"
     ]
    }
   ],
   "source": [
    "pred_xgb = np.expm1(model_xgb.predict(X_test))\n",
    "\n",
    "y_true = np.expm1(y_test)\n",
    "\n",
    "print(\"mean_squared_error=\",mean_squared_error(y_true,pred_xgb))\n",
    "print(\"explained_variance_score=\",explained_variance_score(y_true,pred_xgb))\n",
    "print(\"RMSE=\",np.sqrt(mean_squared_error(y_true,pred_xgb))) \n",
    "\n",
    "print(\"r2_score=\",r2_score(y_true,pred_xgb))#02879"
   ]
  },
  {
   "cell_type": "code",
   "execution_count": 91,
   "metadata": {},
   "outputs": [
    {
     "name": "stdout",
     "output_type": "stream",
     "text": [
      "mean_squared_error= 56.19116542777499\n",
      "explained_variance_score= 0.9909370629874032\n",
      "RMSE= 7.496076669016599\n",
      "r2_score= 0.990937005090066\n"
     ]
    }
   ],
   "source": [
    "pred_xgb_train = np.expm1(model_xgb.predict(X_train))\n",
    "\n",
    "y_true_train = np.expm1(y_train)\n",
    "print(\"mean_squared_error=\",mean_squared_error(y_true_train,pred_xgb_train))\n",
    "print(\"explained_variance_score=\",explained_variance_score(y_true_train,pred_xgb_train))\n",
    "print(\"RMSE=\",np.sqrt(mean_squared_error(y_true_train,pred_xgb_train)))\n",
    "\n",
    "print(\"r2_score=\",r2_score(y_true_train,pred_xgb_train))"
   ]
  },
  {
   "cell_type": "code",
   "execution_count": 92,
   "metadata": {},
   "outputs": [
    {
     "data": {
      "text/plain": [
       "<matplotlib.axes._subplots.AxesSubplot at 0x17b1d163fa0>"
      ]
     },
     "execution_count": 92,
     "metadata": {},
     "output_type": "execute_result"
    },
    {
     "data": {
      "image/png": "[encoded data removed]",
      "text/plain": [
       "<Figure size 864x576 with 1 Axes>"
      ]
     },
     "metadata": {
      "needs_background": "light"
     },
     "output_type": "display_data"
    }
   ],
   "source": [
    "imp_feat=pd.Series(model_xgb.feature_importances_,index=feature_new)\n",
    "plt.figure(figsize=(12,8))\n",
    "imp_feat.sort_values(ascending=False).plot(kind='bar')"
   ]
  },
  {
   "cell_type": "code",
   "execution_count": 93,
   "metadata": {},
   "outputs": [
    {
     "data": {
      "text/plain": [
       "[<matplotlib.lines.Line2D at 0x17b1d1966d0>]"
      ]
     },
     "execution_count": 93,
     "metadata": {},
     "output_type": "execute_result"
    },
    {
     "data": {
      "image/png": "[encoded data removed]",
      "text/plain": [
       "<Figure size 864x576 with 1 Axes>"
      ]
     },
     "metadata": {
      "needs_background": "light"
     },
     "output_type": "display_data"
    }
   ],
   "source": [
    "plt.figure(figsize=(12,8))\n",
    "plt.scatter(y_true,pred_xgb)\n",
    "plt.plot(y_true,y_true,'r')"
   ]
  },
  {
   "cell_type": "markdown",
   "metadata": {},
   "source": [
    "---\n",
    "\n",
    "<h1>Final Prediction for submission\n",
    "    \n",
    "    \n",
    "---"
   ]
  },
  {
   "cell_type": "code",
   "execution_count": 80,
   "metadata": {},
   "outputs": [],
   "source": [
    "# pred_final = np.expm1(model_xgb.predict(x1_test_new))\n",
    "# pred_csv = pd.DataFrame(pred_final,columns=['UnitPrice'])\n",
    "# pred_csv.to_csv('prediction.csv', index = False)"
   ]
  },
  {
   "cell_type": "markdown",
   "metadata": {},
   "source": [
    "<b><u>Final score was recored in leader board as 18.05160 with 70 data"
   ]
  }
 ],
 "metadata": {
  "kernelspec": {
   "display_name": "Python 3",
   "language": "python",
   "name": "python3"
  },
  "language_info": {
   "codemirror_mode": {
    "name": "ipython",
    "version": 3
   },
   "file_extension": ".py",
   "mimetype": "text/x-python",
   "name": "python",
   "nbconvert_exporter": "python",
   "pygments_lexer": "ipython3",
   "version": "3.8.3"
  }
 },
 "nbformat": 4,
 "nbformat_minor": 4
}
